{
 "cells": [
  {
   "cell_type": "markdown",
   "metadata": {},
   "source": [
    "Program 1- Write a python program to scrape data for “Data Analyst” Job position in \n",
    "“Bangalore” location. You have to scrape the job-title, job-location, company_name,\n",
    "experience_required. You have to scrape first 10 jobs data on the webpage-https://www.naukri.com/"
   ]
  },
  {
   "cell_type": "code",
   "execution_count": null,
   "metadata": {},
   "outputs": [],
   "source": [
    "!pip install selenium"
   ]
  },
  {
   "cell_type": "code",
   "execution_count": 124,
   "metadata": {},
   "outputs": [],
   "source": [
    "import selenium\n",
    "import pandas as pd\n",
    "from selenium import webdriver\n",
    "import time\n",
    "from selenium.common.exceptions import NoSuchElementException"
   ]
  },
  {
   "cell_type": "code",
   "execution_count": 125,
   "metadata": {},
   "outputs": [],
   "source": [
    "driver=webdriver.Chrome(r\"C:/chromedriver_win32/chromedriver.exe\")"
   ]
  },
  {
   "cell_type": "code",
   "execution_count": 126,
   "metadata": {},
   "outputs": [],
   "source": [
    "driver.get(\"https://www.naukri.com/\")"
   ]
  },
  {
   "cell_type": "code",
   "execution_count": 127,
   "metadata": {},
   "outputs": [],
   "source": [
    "#finding element for job search bar\n",
    "search_job=driver.find_element_by_id(\"qsb-keyword-sugg\")\n",
    "search_job.send_keys(\"Data Analyst\")"
   ]
  },
  {
   "cell_type": "code",
   "execution_count": 128,
   "metadata": {},
   "outputs": [],
   "source": [
    "search_loc=driver.find_element_by_xpath(\"//input[@id='qsb-location-sugg']\")\n",
    "search_loc.send_keys(\"Bangalore/Bengaluru\")"
   ]
  },
  {
   "cell_type": "code",
   "execution_count": 129,
   "metadata": {},
   "outputs": [],
   "source": [
    "search_btn=driver.find_element_by_xpath(\"//div[@class='search-btn']/button\")\n",
    "search_btn.click()"
   ]
  },
  {
   "cell_type": "code",
   "execution_count": 130,
   "metadata": {},
   "outputs": [],
   "source": [
    "job_titles=[]\n",
    "company_names=[]\n",
    "locations_list=[]\n",
    "experience_list=[]"
   ]
  },
  {
   "cell_type": "code",
   "execution_count": 131,
   "metadata": {},
   "outputs": [
    {
     "data": {
      "text/plain": [
       "[<selenium.webdriver.remote.webelement.WebElement (session=\"be59e952fc7b68e419d3d7b808d6413f\", element=\"f15f8880-0b75-4dcd-9c2f-2417081658b2\")>,\n",
       " <selenium.webdriver.remote.webelement.WebElement (session=\"be59e952fc7b68e419d3d7b808d6413f\", element=\"d82239ca-160e-461c-bd87-ddadc63959ff\")>,\n",
       " <selenium.webdriver.remote.webelement.WebElement (session=\"be59e952fc7b68e419d3d7b808d6413f\", element=\"961a71cb-6c10-415f-bb84-f544d3121be6\")>,\n",
       " <selenium.webdriver.remote.webelement.WebElement (session=\"be59e952fc7b68e419d3d7b808d6413f\", element=\"18335a82-0b06-4b3d-8052-8426be600450\")>,\n",
       " <selenium.webdriver.remote.webelement.WebElement (session=\"be59e952fc7b68e419d3d7b808d6413f\", element=\"0331c5ce-fef4-4c56-933c-9c8b1140327e\")>,\n",
       " <selenium.webdriver.remote.webelement.WebElement (session=\"be59e952fc7b68e419d3d7b808d6413f\", element=\"0d6bfd73-9067-4c29-8c88-ec7117130ca0\")>,\n",
       " <selenium.webdriver.remote.webelement.WebElement (session=\"be59e952fc7b68e419d3d7b808d6413f\", element=\"c4165492-0086-4f56-82af-8538b9043f1a\")>,\n",
       " <selenium.webdriver.remote.webelement.WebElement (session=\"be59e952fc7b68e419d3d7b808d6413f\", element=\"5ef0d0b2-7526-464c-9a2d-a3665aee19db\")>,\n",
       " <selenium.webdriver.remote.webelement.WebElement (session=\"be59e952fc7b68e419d3d7b808d6413f\", element=\"6a695199-e590-40cb-aa6d-5f9d349df227\")>,\n",
       " <selenium.webdriver.remote.webelement.WebElement (session=\"be59e952fc7b68e419d3d7b808d6413f\", element=\"572d1e40-14e1-4df4-ba09-eefa2e5a54c2\")>]"
      ]
     },
     "execution_count": 131,
     "metadata": {},
     "output_type": "execute_result"
    }
   ],
   "source": [
    "titles_tags=driver.find_elements_by_xpath(\"//a[@class='title fw500 ellipsis']\")\n",
    "titles_tags[0:10]"
   ]
  },
  {
   "cell_type": "code",
   "execution_count": 132,
   "metadata": {},
   "outputs": [
    {
     "data": {
      "text/plain": [
       "['SQL Data Analyst',\n",
       " 'Data Analyst - Marketing',\n",
       " 'Openings For Data Analyst',\n",
       " 'Associate Data Analyst',\n",
       " 'Business Data Analyst',\n",
       " 'Data Analyst / Business Analyst (Demand Planning)',\n",
       " 'Data Analyst',\n",
       " 'Lead Data Analyst / Data Engineer',\n",
       " 'Business Data Analyst',\n",
       " 'Senior Data Analyst']"
      ]
     },
     "execution_count": 132,
     "metadata": {},
     "output_type": "execute_result"
    }
   ],
   "source": [
    "for i in titles_tags:\n",
    "    title=i.text\n",
    "    job_titles.append(title)\n",
    "job_titles[0:10]"
   ]
  },
  {
   "cell_type": "code",
   "execution_count": 133,
   "metadata": {},
   "outputs": [
    {
     "data": {
      "text/plain": [
       "[<selenium.webdriver.remote.webelement.WebElement (session=\"be59e952fc7b68e419d3d7b808d6413f\", element=\"decea6b9-2e9b-431f-a0a3-a27c9433a0a1\")>,\n",
       " <selenium.webdriver.remote.webelement.WebElement (session=\"be59e952fc7b68e419d3d7b808d6413f\", element=\"13834310-f481-4f26-a9f5-6adf6a527c18\")>,\n",
       " <selenium.webdriver.remote.webelement.WebElement (session=\"be59e952fc7b68e419d3d7b808d6413f\", element=\"0642b492-567c-4e50-b16d-e0a973059cc3\")>,\n",
       " <selenium.webdriver.remote.webelement.WebElement (session=\"be59e952fc7b68e419d3d7b808d6413f\", element=\"23185dcd-9ef3-4c30-a948-1e02c6791d1e\")>,\n",
       " <selenium.webdriver.remote.webelement.WebElement (session=\"be59e952fc7b68e419d3d7b808d6413f\", element=\"55661eaf-172c-4f2e-84bd-2456a6945831\")>,\n",
       " <selenium.webdriver.remote.webelement.WebElement (session=\"be59e952fc7b68e419d3d7b808d6413f\", element=\"60acb2c1-900d-482f-bd56-5bfd1e8419b7\")>,\n",
       " <selenium.webdriver.remote.webelement.WebElement (session=\"be59e952fc7b68e419d3d7b808d6413f\", element=\"739d6fd8-c206-4243-97d1-d45e8a861d68\")>,\n",
       " <selenium.webdriver.remote.webelement.WebElement (session=\"be59e952fc7b68e419d3d7b808d6413f\", element=\"b3477d29-a882-4c26-9aba-4e2dd3f4fda5\")>,\n",
       " <selenium.webdriver.remote.webelement.WebElement (session=\"be59e952fc7b68e419d3d7b808d6413f\", element=\"4eb2d2bd-e278-4386-a667-b36cdba13e9a\")>,\n",
       " <selenium.webdriver.remote.webelement.WebElement (session=\"be59e952fc7b68e419d3d7b808d6413f\", element=\"7a85ccd8-a227-4d87-ae86-a4aaf2a0bcb8\")>]"
      ]
     },
     "execution_count": 133,
     "metadata": {},
     "output_type": "execute_result"
    }
   ],
   "source": [
    "companies_tags=driver.find_elements_by_xpath(\"//a[@class='subTitle ellipsis fleft']\")\n",
    "companies_tags[0:10]"
   ]
  },
  {
   "cell_type": "code",
   "execution_count": 134,
   "metadata": {},
   "outputs": [
    {
     "data": {
      "text/plain": [
       "['NetApp',\n",
       " 'Byjus - Transforming Education using Technology',\n",
       " 'Allegis Services India Pvt. Ltd.',\n",
       " 'Integrated Digital Systems',\n",
       " 'INDIAVIDUAL LEARNING LIMITED',\n",
       " 'Flipkart',\n",
       " 'Applied Materials',\n",
       " 'Huawei Technologies',\n",
       " 'RANDSTAD INDIA PVT LTD',\n",
       " 'Scienaptic Systems']"
      ]
     },
     "execution_count": 134,
     "metadata": {},
     "output_type": "execute_result"
    }
   ],
   "source": [
    "for i in companies_tags:\n",
    "    company_name=i.text\n",
    "    company_names.append(company_name)\n",
    "company_names[0:10]"
   ]
  },
  {
   "cell_type": "code",
   "execution_count": 135,
   "metadata": {},
   "outputs": [
    {
     "data": {
      "text/plain": [
       "[<selenium.webdriver.remote.webelement.WebElement (session=\"be59e952fc7b68e419d3d7b808d6413f\", element=\"ab244769-de44-4cee-9102-0d6e8a2e0576\")>,\n",
       " <selenium.webdriver.remote.webelement.WebElement (session=\"be59e952fc7b68e419d3d7b808d6413f\", element=\"9bd7543e-ee06-4139-bff2-dcc52aed8774\")>,\n",
       " <selenium.webdriver.remote.webelement.WebElement (session=\"be59e952fc7b68e419d3d7b808d6413f\", element=\"693c6366-0a37-4bb0-a3dd-f98bb25c7e5f\")>,\n",
       " <selenium.webdriver.remote.webelement.WebElement (session=\"be59e952fc7b68e419d3d7b808d6413f\", element=\"d4cd27a2-4139-411e-aea3-2c6bcfc56c18\")>,\n",
       " <selenium.webdriver.remote.webelement.WebElement (session=\"be59e952fc7b68e419d3d7b808d6413f\", element=\"de2141bc-6555-469a-af67-6259c6748f1a\")>,\n",
       " <selenium.webdriver.remote.webelement.WebElement (session=\"be59e952fc7b68e419d3d7b808d6413f\", element=\"d97ce963-017b-43e3-993a-72f65c839e45\")>,\n",
       " <selenium.webdriver.remote.webelement.WebElement (session=\"be59e952fc7b68e419d3d7b808d6413f\", element=\"054ac428-b904-48cc-a73d-1b560869ee01\")>,\n",
       " <selenium.webdriver.remote.webelement.WebElement (session=\"be59e952fc7b68e419d3d7b808d6413f\", element=\"e298ee87-491a-442a-b7d3-c5ecbee054ad\")>,\n",
       " <selenium.webdriver.remote.webelement.WebElement (session=\"be59e952fc7b68e419d3d7b808d6413f\", element=\"405c1544-ff78-4c56-abf3-c30b3df5bcc6\")>,\n",
       " <selenium.webdriver.remote.webelement.WebElement (session=\"be59e952fc7b68e419d3d7b808d6413f\", element=\"6f8462d5-1d54-4fd4-a2a0-4c0f8b91c119\")>]"
      ]
     },
     "execution_count": 135,
     "metadata": {},
     "output_type": "execute_result"
    }
   ],
   "source": [
    "experience_tags=driver.find_elements_by_xpath(\"//li[@class='fleft grey-text br2 placeHolderLi experience']/span[1]\")\n",
    "experience_tags[0:10]"
   ]
  },
  {
   "cell_type": "code",
   "execution_count": 136,
   "metadata": {},
   "outputs": [
    {
     "data": {
      "text/plain": [
       "['3-7 Yrs',\n",
       " '0-2 Yrs',\n",
       " '0-3 Yrs',\n",
       " '0-2 Yrs',\n",
       " '2-6 Yrs',\n",
       " '1-4 Yrs',\n",
       " '0-3 Yrs',\n",
       " '5-10 Yrs',\n",
       " '8-12 Yrs',\n",
       " '5-10 Yrs']"
      ]
     },
     "execution_count": 136,
     "metadata": {},
     "output_type": "execute_result"
    }
   ],
   "source": [
    "for i in experience_tags:\n",
    "    experience=i.text\n",
    "    experience_list.append(experience)\n",
    "experience_list[0:10]"
   ]
  },
  {
   "cell_type": "code",
   "execution_count": 137,
   "metadata": {},
   "outputs": [
    {
     "data": {
      "text/plain": [
       "[<selenium.webdriver.remote.webelement.WebElement (session=\"be59e952fc7b68e419d3d7b808d6413f\", element=\"a67cef5f-0919-4f44-a4ce-5f054805a9a6\")>,\n",
       " <selenium.webdriver.remote.webelement.WebElement (session=\"be59e952fc7b68e419d3d7b808d6413f\", element=\"bf988971-b92c-4cda-ad26-8dc607d84db4\")>,\n",
       " <selenium.webdriver.remote.webelement.WebElement (session=\"be59e952fc7b68e419d3d7b808d6413f\", element=\"3df1a3e0-5d89-4533-8479-8d5b86e96367\")>,\n",
       " <selenium.webdriver.remote.webelement.WebElement (session=\"be59e952fc7b68e419d3d7b808d6413f\", element=\"1c99468c-c9f8-415c-bf42-868527d1f0ee\")>,\n",
       " <selenium.webdriver.remote.webelement.WebElement (session=\"be59e952fc7b68e419d3d7b808d6413f\", element=\"0bdb8e02-6f06-4ba2-b7b8-c4466df30e1b\")>,\n",
       " <selenium.webdriver.remote.webelement.WebElement (session=\"be59e952fc7b68e419d3d7b808d6413f\", element=\"4aae0fb5-f4c5-48a6-b35f-33939dd4fa39\")>,\n",
       " <selenium.webdriver.remote.webelement.WebElement (session=\"be59e952fc7b68e419d3d7b808d6413f\", element=\"513395af-0a53-4c08-b0f5-b22dc8133121\")>,\n",
       " <selenium.webdriver.remote.webelement.WebElement (session=\"be59e952fc7b68e419d3d7b808d6413f\", element=\"3355fc9c-6e13-4c52-b988-35a1faf51a45\")>,\n",
       " <selenium.webdriver.remote.webelement.WebElement (session=\"be59e952fc7b68e419d3d7b808d6413f\", element=\"8a53b4e1-442d-4af2-a8de-1faa5b634bb2\")>,\n",
       " <selenium.webdriver.remote.webelement.WebElement (session=\"be59e952fc7b68e419d3d7b808d6413f\", element=\"9a48012c-461f-4d41-97cc-2c32008dd695\")>]"
      ]
     },
     "execution_count": 137,
     "metadata": {},
     "output_type": "execute_result"
    }
   ],
   "source": [
    "locations_tags=driver.find_elements_by_xpath(\"//li[@class='fleft grey-text br2 placeHolderLi location']/span[1]\")\n",
    "locations_tags[0:10]"
   ]
  },
  {
   "cell_type": "code",
   "execution_count": 138,
   "metadata": {},
   "outputs": [
    {
     "data": {
      "text/plain": [
       "['Bangalore/Bengaluru',\n",
       " 'Bangalore/Bengaluru',\n",
       " 'Bangalore/Bengaluru',\n",
       " 'Bangalore/Bengaluru',\n",
       " 'Bangalore/Bengaluru',\n",
       " 'Bangalore/Bengaluru',\n",
       " 'Bangalore/Bengaluru',\n",
       " 'Bangalore/Bengaluru',\n",
       " 'Bangalore/Bengaluru',\n",
       " 'Bangalore/Bengaluru']"
      ]
     },
     "execution_count": 138,
     "metadata": {},
     "output_type": "execute_result"
    }
   ],
   "source": [
    "for i in locations_tags:\n",
    "    location=i.text\n",
    "    locations_list.append(location)\n",
    "locations_list[0:10]"
   ]
  },
  {
   "cell_type": "code",
   "execution_count": 139,
   "metadata": {},
   "outputs": [
    {
     "name": "stdout",
     "output_type": "stream",
     "text": [
      "20 20 20 20\n"
     ]
    }
   ],
   "source": [
    "print(len(job_titles),len(company_names),len(experience_list),len(locations_list))"
   ]
  },
  {
   "cell_type": "code",
   "execution_count": 140,
   "metadata": {},
   "outputs": [],
   "source": [
    "jobs_bg=pd.DataFrame({})\n",
    "jobs_bg['title']=job_titles[0:10]\n",
    "jobs_bg['company']=company_names[0:10]\n",
    "jobs_bg['experience_required']=experience_list[0:10]\n",
    "jobs_bg['location']=locations_list[0:10]"
   ]
  },
  {
   "cell_type": "code",
   "execution_count": 141,
   "metadata": {},
   "outputs": [
    {
     "data": {
      "text/html": [
       "<div>\n",
       "<style scoped>\n",
       "    .dataframe tbody tr th:only-of-type {\n",
       "        vertical-align: middle;\n",
       "    }\n",
       "\n",
       "    .dataframe tbody tr th {\n",
       "        vertical-align: top;\n",
       "    }\n",
       "\n",
       "    .dataframe thead th {\n",
       "        text-align: right;\n",
       "    }\n",
       "</style>\n",
       "<table border=\"1\" class=\"dataframe\">\n",
       "  <thead>\n",
       "    <tr style=\"text-align: right;\">\n",
       "      <th></th>\n",
       "      <th>title</th>\n",
       "      <th>company</th>\n",
       "      <th>experience_required</th>\n",
       "      <th>location</th>\n",
       "    </tr>\n",
       "  </thead>\n",
       "  <tbody>\n",
       "    <tr>\n",
       "      <th>0</th>\n",
       "      <td>SQL Data Analyst</td>\n",
       "      <td>NetApp</td>\n",
       "      <td>3-7 Yrs</td>\n",
       "      <td>Bangalore/Bengaluru</td>\n",
       "    </tr>\n",
       "    <tr>\n",
       "      <th>1</th>\n",
       "      <td>Data Analyst - Marketing</td>\n",
       "      <td>Byjus - Transforming Education using Technology</td>\n",
       "      <td>0-2 Yrs</td>\n",
       "      <td>Bangalore/Bengaluru</td>\n",
       "    </tr>\n",
       "    <tr>\n",
       "      <th>2</th>\n",
       "      <td>Openings For Data Analyst</td>\n",
       "      <td>Allegis Services India Pvt. Ltd.</td>\n",
       "      <td>0-3 Yrs</td>\n",
       "      <td>Bangalore/Bengaluru</td>\n",
       "    </tr>\n",
       "    <tr>\n",
       "      <th>3</th>\n",
       "      <td>Associate Data Analyst</td>\n",
       "      <td>Integrated Digital Systems</td>\n",
       "      <td>0-2 Yrs</td>\n",
       "      <td>Bangalore/Bengaluru</td>\n",
       "    </tr>\n",
       "    <tr>\n",
       "      <th>4</th>\n",
       "      <td>Business Data Analyst</td>\n",
       "      <td>INDIAVIDUAL LEARNING LIMITED</td>\n",
       "      <td>2-6 Yrs</td>\n",
       "      <td>Bangalore/Bengaluru</td>\n",
       "    </tr>\n",
       "    <tr>\n",
       "      <th>5</th>\n",
       "      <td>Data Analyst / Business Analyst (Demand Planning)</td>\n",
       "      <td>Flipkart</td>\n",
       "      <td>1-4 Yrs</td>\n",
       "      <td>Bangalore/Bengaluru</td>\n",
       "    </tr>\n",
       "    <tr>\n",
       "      <th>6</th>\n",
       "      <td>Data Analyst</td>\n",
       "      <td>Applied Materials</td>\n",
       "      <td>0-3 Yrs</td>\n",
       "      <td>Bangalore/Bengaluru</td>\n",
       "    </tr>\n",
       "    <tr>\n",
       "      <th>7</th>\n",
       "      <td>Lead Data Analyst / Data Engineer</td>\n",
       "      <td>Huawei Technologies</td>\n",
       "      <td>5-10 Yrs</td>\n",
       "      <td>Bangalore/Bengaluru</td>\n",
       "    </tr>\n",
       "    <tr>\n",
       "      <th>8</th>\n",
       "      <td>Business Data Analyst</td>\n",
       "      <td>RANDSTAD INDIA PVT LTD</td>\n",
       "      <td>8-12 Yrs</td>\n",
       "      <td>Bangalore/Bengaluru</td>\n",
       "    </tr>\n",
       "    <tr>\n",
       "      <th>9</th>\n",
       "      <td>Senior Data Analyst</td>\n",
       "      <td>Scienaptic Systems</td>\n",
       "      <td>5-10 Yrs</td>\n",
       "      <td>Bangalore/Bengaluru</td>\n",
       "    </tr>\n",
       "  </tbody>\n",
       "</table>\n",
       "</div>"
      ],
      "text/plain": [
       "                                               title  \\\n",
       "0                                   SQL Data Analyst   \n",
       "1                           Data Analyst - Marketing   \n",
       "2                          Openings For Data Analyst   \n",
       "3                             Associate Data Analyst   \n",
       "4                              Business Data Analyst   \n",
       "5  Data Analyst / Business Analyst (Demand Planning)   \n",
       "6                                       Data Analyst   \n",
       "7                  Lead Data Analyst / Data Engineer   \n",
       "8                              Business Data Analyst   \n",
       "9                                Senior Data Analyst   \n",
       "\n",
       "                                           company experience_required  \\\n",
       "0                                           NetApp             3-7 Yrs   \n",
       "1  Byjus - Transforming Education using Technology             0-2 Yrs   \n",
       "2                 Allegis Services India Pvt. Ltd.             0-3 Yrs   \n",
       "3                       Integrated Digital Systems             0-2 Yrs   \n",
       "4                     INDIAVIDUAL LEARNING LIMITED             2-6 Yrs   \n",
       "5                                         Flipkart             1-4 Yrs   \n",
       "6                                Applied Materials             0-3 Yrs   \n",
       "7                              Huawei Technologies            5-10 Yrs   \n",
       "8                           RANDSTAD INDIA PVT LTD            8-12 Yrs   \n",
       "9                               Scienaptic Systems            5-10 Yrs   \n",
       "\n",
       "              location  \n",
       "0  Bangalore/Bengaluru  \n",
       "1  Bangalore/Bengaluru  \n",
       "2  Bangalore/Bengaluru  \n",
       "3  Bangalore/Bengaluru  \n",
       "4  Bangalore/Bengaluru  \n",
       "5  Bangalore/Bengaluru  \n",
       "6  Bangalore/Bengaluru  \n",
       "7  Bangalore/Bengaluru  \n",
       "8  Bangalore/Bengaluru  \n",
       "9  Bangalore/Bengaluru  "
      ]
     },
     "execution_count": 141,
     "metadata": {},
     "output_type": "execute_result"
    }
   ],
   "source": [
    "jobs_bg"
   ]
  },
  {
   "cell_type": "markdown",
   "metadata": {},
   "source": [
    "Program 2- Write a python program to scrape data for “Data Scientist” Job position in \n",
    "“Bangalore” location. You have to scrape the job-title, job-location,\n",
    "company_name, full job-description. You have to scrape first 10 jobs data on the webpage https://www.naukri.com/"
   ]
  },
  {
   "cell_type": "code",
   "execution_count": 156,
   "metadata": {},
   "outputs": [],
   "source": [
    "driver=webdriver.Chrome(r\"C:/chromedriver_win32/chromedriver.exe\")"
   ]
  },
  {
   "cell_type": "code",
   "execution_count": 157,
   "metadata": {},
   "outputs": [],
   "source": [
    "driver.get(\"https://www.naukri.com/\")"
   ]
  },
  {
   "cell_type": "code",
   "execution_count": 158,
   "metadata": {},
   "outputs": [],
   "source": [
    "#finding element for job search bar\n",
    "search_job=driver.find_element_by_id(\"qsb-keyword-sugg\")\n",
    "search_job.send_keys(\"Data Scientist\")"
   ]
  },
  {
   "cell_type": "code",
   "execution_count": 159,
   "metadata": {},
   "outputs": [],
   "source": [
    "search_loc=driver.find_element_by_xpath(\"//input[@id='qsb-location-sugg']\")\n",
    "search_loc.send_keys(\"Bangalore/Bengaluru\")"
   ]
  },
  {
   "cell_type": "code",
   "execution_count": 160,
   "metadata": {},
   "outputs": [],
   "source": [
    "search_btn=driver.find_element_by_xpath(\"//div[@class='search-btn']/button\")\n",
    "search_btn.click()"
   ]
  },
  {
   "cell_type": "code",
   "execution_count": 161,
   "metadata": {},
   "outputs": [],
   "source": [
    "job_title=[]\n",
    "company_names=[]\n",
    "job_locations=[]\n",
    "job_description=[]\n",
    "urls=[]"
   ]
  },
  {
   "cell_type": "code",
   "execution_count": 162,
   "metadata": {},
   "outputs": [
    {
     "data": {
      "text/plain": [
       "['https://www.naukri.com/job-listings-sr-data-scientist-data-scientist-for-bangalore-kolkata-locations-mpokket-kolkata-bangalore-bengaluru-3-to-8-years-141021001893?src=jobsearchDesk&sid=16344041353982951&xp=1&px=1',\n",
       " 'https://www.naukri.com/job-listings-senior-data-scientist-python-machine-learning-algorithms-altimax-business-solutions-mumbai-hyderabad-secunderabad-pune-bangalore-bengaluru-4-to-9-years-020921908794?src=jobsearchDesk&sid=16344041353982951&xp=2&px=1',\n",
       " 'https://www.naukri.com/job-listings-lead-data-scientist-huawei-technologies-india-pvt-ltd-bangalore-bengaluru-4-to-9-years-121021907623?src=jobsearchDesk&sid=16344041353982951&xp=3&px=1',\n",
       " 'https://www.naukri.com/job-listings-sde2-data-scientist-multi-recruit-bangalore-bengaluru-2-to-7-years-141021501578?src=jobsearchDesk&sid=16344041353982951&xp=4&px=1',\n",
       " 'https://www.naukri.com/job-listings-sde1-data-scientist-multi-recruit-bangalore-bengaluru-8-to-13-years-141021501577?src=jobsearchDesk&sid=16344041353982951&xp=5&px=1',\n",
       " 'https://www.naukri.com/job-listings-data-scientist-epifi-technologies-bangalore-bengaluru-3-to-5-years-141021501473?src=jobsearchDesk&sid=16344041353982951&xp=6&px=1',\n",
       " 'https://www.naukri.com/job-listings-data-scientist-nutanix-india-technologies-private-limited-pune-bangalore-bengaluru-4-to-9-years-141021500782?src=jobsearchDesk&sid=16344041353982951&xp=7&px=1',\n",
       " 'https://www.naukri.com/job-listings-vice-president-data-scientist-execboardinasia-bangalore-bengaluru-11-to-15-years-141021500866?src=jobsearchDesk&sid=16344041353982951&xp=8&px=1',\n",
       " 'https://www.naukri.com/job-listings-data-scientist-capco-technologies-pvt-ltd-bangalore-bengaluru-4-to-9-years-141021500034?src=jobsearchDesk&sid=16344041353982951&xp=9&px=1',\n",
       " 'https://www.naukri.com/job-listings-data-scientist-exl-services-com-i-pvt-ltd-gurgaon-gurugram-bangalore-bengaluru-3-to-5-years-141021005203?src=jobsearchDesk&sid=16344041353982951&xp=10&px=1',\n",
       " 'https://www.naukri.com/job-listings-data-scientist-ai-ml-engineer-hitachi-ltd-bangalore-bengaluru-5-to-10-years-111021500424?src=jobsearchDesk&sid=16344041353982951&xp=11&px=1',\n",
       " 'https://www.naukri.com/job-listings-senior-lead-data-scientist-scienaptic-systems-bangalore-bengaluru-10-to-12-years-041021500239?src=jobsearchDesk&sid=16344041353982951&xp=12&px=1',\n",
       " 'https://www.naukri.com/job-listings-data-scientist-executive-selection-india-bangalore-bengaluru-5-to-10-years-141021900225?src=jobsearchDesk&sid=16344041353982951&xp=13&px=1',\n",
       " 'https://www.naukri.com/job-listings-senior-data-scientist-go-jek-india-bangalore-bengaluru-5-to-10-years-111021502002?src=jobsearchDesk&sid=16344041353982951&xp=14&px=1',\n",
       " 'https://www.naukri.com/job-listings-senior-data-scientist-convergence-infotech-ltd-bangalore-bengaluru-8-to-12-years-111021004221?src=jobsearchDesk&sid=16344041353982951&xp=15&px=1',\n",
       " 'https://www.naukri.com/job-listings-senior-data-scientist-nlp-thomson-reuters-international-services-pvt-ltd-bangalore-bengaluru-8-to-10-years-111021001745?src=jobsearchDesk&sid=16344041353982951&xp=16&px=1',\n",
       " 'https://www.naukri.com/job-listings-data-scientist-bd-bangalore-bengaluru-2-to-5-years-091021500390?src=jobsearchDesk&sid=16344041353982951&xp=17&px=1',\n",
       " 'https://www.naukri.com/job-listings-senior-data-scientist-visa-inc-bangalore-bengaluru-4-to-9-years-011021501318?src=jobsearchDesk&sid=16344041353982951&xp=18&px=1',\n",
       " 'https://www.naukri.com/job-listings-data-scientist-senior-data-scientist-it-services-firm-pylon-management-consulting-pvt-ltd-hyderabad-secunderabad-pune-gurgaon-gurugram-bangalore-bengaluru-5-to-6-years-131021906976?src=jobsearchDesk&sid=16344041353982951&xp=19&px=1',\n",
       " 'https://www.naukri.com/job-listings-senior-associate-data-scientist-change-leaders-consulting-bangalore-bengaluru-1-to-5-years-141021603097?src=jobsearchDesk&sid=16344041353982951&xp=20&px=1']"
      ]
     },
     "execution_count": 162,
     "metadata": {},
     "output_type": "execute_result"
    }
   ],
   "source": [
    "for i in driver.find_elements_by_xpath(\"//a[@class='title fw500 ellipsis']\"):\n",
    "    urls.append(i.get_attribute(\"href\"))\n",
    "urls"
   ]
  },
  {
   "cell_type": "code",
   "execution_count": 163,
   "metadata": {},
   "outputs": [
    {
     "data": {
      "text/plain": [
       "20"
      ]
     },
     "execution_count": 163,
     "metadata": {},
     "output_type": "execute_result"
    }
   ],
   "source": [
    "len(urls)"
   ]
  },
  {
   "cell_type": "code",
   "execution_count": 165,
   "metadata": {},
   "outputs": [
    {
     "ename": "WebDriverException",
     "evalue": "Message: chrome not reachable\n  (Session info: chrome=94.0.4606.81)\n",
     "output_type": "error",
     "traceback": [
      "\u001b[1;31m---------------------------------------------------------------------------\u001b[0m",
      "\u001b[1;31mWebDriverException\u001b[0m                        Traceback (most recent call last)",
      "\u001b[1;32m<ipython-input-165-915bf62ccd66>\u001b[0m in \u001b[0;36m<module>\u001b[1;34m\u001b[0m\n\u001b[0;32m      1\u001b[0m \u001b[1;32mfor\u001b[0m \u001b[0mi\u001b[0m \u001b[1;32min\u001b[0m \u001b[0murls\u001b[0m\u001b[1;33m:\u001b[0m\u001b[1;33m\u001b[0m\u001b[1;33m\u001b[0m\u001b[0m\n\u001b[1;32m----> 2\u001b[1;33m     \u001b[0mdriver\u001b[0m\u001b[1;33m.\u001b[0m\u001b[0mget\u001b[0m\u001b[1;33m(\u001b[0m\u001b[0mi\u001b[0m\u001b[1;33m)\u001b[0m\u001b[1;33m\u001b[0m\u001b[1;33m\u001b[0m\u001b[0m\n\u001b[0m\u001b[0;32m      3\u001b[0m     \u001b[0mtime\u001b[0m\u001b[1;33m.\u001b[0m\u001b[0msleep\u001b[0m\u001b[1;33m(\u001b[0m\u001b[1;36m3\u001b[0m\u001b[1;33m)\u001b[0m\u001b[1;33m\u001b[0m\u001b[1;33m\u001b[0m\u001b[0m\n\u001b[0;32m      4\u001b[0m \u001b[1;31m#fetching job title\u001b[0m\u001b[1;33m\u001b[0m\u001b[1;33m\u001b[0m\u001b[1;33m\u001b[0m\u001b[0m\n\u001b[0;32m      5\u001b[0m     \u001b[1;32mtry\u001b[0m\u001b[1;33m:\u001b[0m\u001b[1;33m\u001b[0m\u001b[1;33m\u001b[0m\u001b[0m\n",
      "\u001b[1;32mC:\\ProgramData\\Anaconda3\\lib\\site-packages\\selenium\\webdriver\\remote\\webdriver.py\u001b[0m in \u001b[0;36mget\u001b[1;34m(self, url)\u001b[0m\n\u001b[0;32m    331\u001b[0m         \u001b[0mLoads\u001b[0m \u001b[0ma\u001b[0m \u001b[0mweb\u001b[0m \u001b[0mpage\u001b[0m \u001b[1;32min\u001b[0m \u001b[0mthe\u001b[0m \u001b[0mcurrent\u001b[0m \u001b[0mbrowser\u001b[0m \u001b[0msession\u001b[0m\u001b[1;33m.\u001b[0m\u001b[1;33m\u001b[0m\u001b[1;33m\u001b[0m\u001b[0m\n\u001b[0;32m    332\u001b[0m         \"\"\"\n\u001b[1;32m--> 333\u001b[1;33m         \u001b[0mself\u001b[0m\u001b[1;33m.\u001b[0m\u001b[0mexecute\u001b[0m\u001b[1;33m(\u001b[0m\u001b[0mCommand\u001b[0m\u001b[1;33m.\u001b[0m\u001b[0mGET\u001b[0m\u001b[1;33m,\u001b[0m \u001b[1;33m{\u001b[0m\u001b[1;34m'url'\u001b[0m\u001b[1;33m:\u001b[0m \u001b[0murl\u001b[0m\u001b[1;33m}\u001b[0m\u001b[1;33m)\u001b[0m\u001b[1;33m\u001b[0m\u001b[1;33m\u001b[0m\u001b[0m\n\u001b[0m\u001b[0;32m    334\u001b[0m \u001b[1;33m\u001b[0m\u001b[0m\n\u001b[0;32m    335\u001b[0m     \u001b[1;33m@\u001b[0m\u001b[0mproperty\u001b[0m\u001b[1;33m\u001b[0m\u001b[1;33m\u001b[0m\u001b[0m\n",
      "\u001b[1;32mC:\\ProgramData\\Anaconda3\\lib\\site-packages\\selenium\\webdriver\\remote\\webdriver.py\u001b[0m in \u001b[0;36mexecute\u001b[1;34m(self, driver_command, params)\u001b[0m\n\u001b[0;32m    319\u001b[0m         \u001b[0mresponse\u001b[0m \u001b[1;33m=\u001b[0m \u001b[0mself\u001b[0m\u001b[1;33m.\u001b[0m\u001b[0mcommand_executor\u001b[0m\u001b[1;33m.\u001b[0m\u001b[0mexecute\u001b[0m\u001b[1;33m(\u001b[0m\u001b[0mdriver_command\u001b[0m\u001b[1;33m,\u001b[0m \u001b[0mparams\u001b[0m\u001b[1;33m)\u001b[0m\u001b[1;33m\u001b[0m\u001b[1;33m\u001b[0m\u001b[0m\n\u001b[0;32m    320\u001b[0m         \u001b[1;32mif\u001b[0m \u001b[0mresponse\u001b[0m\u001b[1;33m:\u001b[0m\u001b[1;33m\u001b[0m\u001b[1;33m\u001b[0m\u001b[0m\n\u001b[1;32m--> 321\u001b[1;33m             \u001b[0mself\u001b[0m\u001b[1;33m.\u001b[0m\u001b[0merror_handler\u001b[0m\u001b[1;33m.\u001b[0m\u001b[0mcheck_response\u001b[0m\u001b[1;33m(\u001b[0m\u001b[0mresponse\u001b[0m\u001b[1;33m)\u001b[0m\u001b[1;33m\u001b[0m\u001b[1;33m\u001b[0m\u001b[0m\n\u001b[0m\u001b[0;32m    322\u001b[0m             response['value'] = self._unwrap_value(\n\u001b[0;32m    323\u001b[0m                 response.get('value', None))\n",
      "\u001b[1;32mC:\\ProgramData\\Anaconda3\\lib\\site-packages\\selenium\\webdriver\\remote\\errorhandler.py\u001b[0m in \u001b[0;36mcheck_response\u001b[1;34m(self, response)\u001b[0m\n\u001b[0;32m    240\u001b[0m                 \u001b[0malert_text\u001b[0m \u001b[1;33m=\u001b[0m \u001b[0mvalue\u001b[0m\u001b[1;33m[\u001b[0m\u001b[1;34m'alert'\u001b[0m\u001b[1;33m]\u001b[0m\u001b[1;33m.\u001b[0m\u001b[0mget\u001b[0m\u001b[1;33m(\u001b[0m\u001b[1;34m'text'\u001b[0m\u001b[1;33m)\u001b[0m\u001b[1;33m\u001b[0m\u001b[1;33m\u001b[0m\u001b[0m\n\u001b[0;32m    241\u001b[0m             \u001b[1;32mraise\u001b[0m \u001b[0mexception_class\u001b[0m\u001b[1;33m(\u001b[0m\u001b[0mmessage\u001b[0m\u001b[1;33m,\u001b[0m \u001b[0mscreen\u001b[0m\u001b[1;33m,\u001b[0m \u001b[0mstacktrace\u001b[0m\u001b[1;33m,\u001b[0m \u001b[0malert_text\u001b[0m\u001b[1;33m)\u001b[0m\u001b[1;33m\u001b[0m\u001b[1;33m\u001b[0m\u001b[0m\n\u001b[1;32m--> 242\u001b[1;33m         \u001b[1;32mraise\u001b[0m \u001b[0mexception_class\u001b[0m\u001b[1;33m(\u001b[0m\u001b[0mmessage\u001b[0m\u001b[1;33m,\u001b[0m \u001b[0mscreen\u001b[0m\u001b[1;33m,\u001b[0m \u001b[0mstacktrace\u001b[0m\u001b[1;33m)\u001b[0m\u001b[1;33m\u001b[0m\u001b[1;33m\u001b[0m\u001b[0m\n\u001b[0m\u001b[0;32m    243\u001b[0m \u001b[1;33m\u001b[0m\u001b[0m\n\u001b[0;32m    244\u001b[0m     \u001b[1;32mdef\u001b[0m \u001b[0m_value_or_default\u001b[0m\u001b[1;33m(\u001b[0m\u001b[0mself\u001b[0m\u001b[1;33m,\u001b[0m \u001b[0mobj\u001b[0m\u001b[1;33m,\u001b[0m \u001b[0mkey\u001b[0m\u001b[1;33m,\u001b[0m \u001b[0mdefault\u001b[0m\u001b[1;33m)\u001b[0m\u001b[1;33m:\u001b[0m\u001b[1;33m\u001b[0m\u001b[1;33m\u001b[0m\u001b[0m\n",
      "\u001b[1;31mWebDriverException\u001b[0m: Message: chrome not reachable\n  (Session info: chrome=94.0.4606.81)\n"
     ]
    }
   ],
   "source": [
    "for i in urls:\n",
    "    driver.get(i)\n",
    "    time.sleep(3)\n",
    "#fetching job title    \n",
    "    try:\n",
    "        job=driver.find_element_by_xpath(\"//div[@class='jd-top-head']/header/h1\")\n",
    "        job_title.append(job.text.replace(\"/n\", \"new line\"))\n",
    "    except:\n",
    "        job_title.append(\"NA\")"
   ]
  },
  {
   "cell_type": "code",
   "execution_count": null,
   "metadata": {},
   "outputs": [],
   "source": [
    "#fetching job location \n",
    "for i in urls:\n",
    "    driver.get(i)\n",
    "    time.sleep(3)\n",
    "    try:\n",
    "        loc=driver.find_element_by_xpath(\"//div[@class='loc']\")\n",
    "        job_locations.append(loc.text)\n",
    "    except:\n",
    "        job_locations.append(\"NA\")\n",
    "#fetching company names\n",
    "        try:\n",
    "            company=driver.find_element_by_xpath(\"//a[@class='pad-rt-8']\")\n",
    "            company_names.append(company.text)\n",
    "        except:\n",
    "            company_names.append(\"NA\")\n",
    "#fetching job description   \n",
    "            try:\n",
    "                job_desc=driver.find_element_by_xpath(\"//section[@class='job-desc']\")       \n",
    "                job_description.append(job_desc.text)\n",
    "            except:\n",
    "                job_description.append(\"NA\")"
   ]
  },
  {
   "cell_type": "code",
   "execution_count": null,
   "metadata": {},
   "outputs": [],
   "source": [
    "job_title"
   ]
  },
  {
   "cell_type": "code",
   "execution_count": null,
   "metadata": {},
   "outputs": [],
   "source": [
    "company_names"
   ]
  },
  {
   "cell_type": "code",
   "execution_count": null,
   "metadata": {},
   "outputs": [],
   "source": [
    "job_locations"
   ]
  },
  {
   "cell_type": "code",
   "execution_count": null,
   "metadata": {},
   "outputs": [],
   "source": [
    "job_description"
   ]
  },
  {
   "cell_type": "code",
   "execution_count": null,
   "metadata": {},
   "outputs": [],
   "source": [
    "print(len(job_titles),len(company_names),len(job_locations),len(job_description))"
   ]
  },
  {
   "cell_type": "code",
   "execution_count": null,
   "metadata": {},
   "outputs": [],
   "source": [
    "jobs_bg=pd.DataFrame({})\n",
    "jobs_bg['Title']=job_title[0:10]\n",
    "jobs_bg['Company']=company_names[0:10]\n",
    "jobs_bg['Location']=job_locations[0:10]\n",
    "jobs_bg['Job description']=job_description[0:10]\n",
    "jobs_bg"
   ]
  },
  {
   "cell_type": "code",
   "execution_count": null,
   "metadata": {},
   "outputs": [],
   "source": []
  },
  {
   "cell_type": "code",
   "execution_count": null,
   "metadata": {},
   "outputs": [],
   "source": []
  },
  {
   "cell_type": "markdown",
   "metadata": {},
   "source": [
    "Program 3- In this question you have to scrape data using the filters available as- \n",
    "You have to use the location and salary filter.\n",
    "You have to scrape data for “Data Scientist” designation for first 10 job results.\n",
    "You have to scrape the job-title, job-location, company_name,\n",
    "experience_required.\n",
    "The location filter to be used is “Delhi/NCR”\n",
    "The salary filter to be used is “3-6” lakhs"
   ]
  },
  {
   "cell_type": "code",
   "execution_count": null,
   "metadata": {},
   "outputs": [],
   "source": [
    "driver=webdriver.Chrome(r\"C:/chromedriver_win32/chromedriver.exe\")"
   ]
  },
  {
   "cell_type": "code",
   "execution_count": null,
   "metadata": {},
   "outputs": [],
   "source": [
    "driver.get(\"https://www.naukri.com/\")"
   ]
  },
  {
   "cell_type": "code",
   "execution_count": null,
   "metadata": {},
   "outputs": [],
   "source": [
    "#finding element for job search bar\n",
    "search_job=driver.find_element_by_id(\"qsb-keyword-sugg\")\n",
    "search_job.send_keys(\"Data Scientist\")"
   ]
  },
  {
   "cell_type": "code",
   "execution_count": null,
   "metadata": {},
   "outputs": [],
   "source": [
    "search_btn=driver.find_element_by_xpath(\"//div[@class='search-btn']/button\")\n",
    "search_btn.click()"
   ]
  },
  {
   "cell_type": "code",
   "execution_count": null,
   "metadata": {},
   "outputs": [],
   "source": [
    "filter_loc=driver.find_element_by_xpath(\"//span[text()='Delhi/NCR']\")\n",
    "filter_loc.click()"
   ]
  },
  {
   "cell_type": "code",
   "execution_count": null,
   "metadata": {},
   "outputs": [],
   "source": [
    "filter_sal=driver.find_element_by_xpath(\"//span[text()='3-6 Lakhs']\")\n",
    "filter_sal.click()"
   ]
  },
  {
   "cell_type": "code",
   "execution_count": null,
   "metadata": {},
   "outputs": [],
   "source": [
    "job_title=[]\n",
    "company_names=[]\n",
    "job_locations=[]\n",
    "experience_req=[]"
   ]
  },
  {
   "cell_type": "code",
   "execution_count": null,
   "metadata": {},
   "outputs": [],
   "source": [
    "title_tags=driver.find_elements_by_xpath(\"//a[@class='title fw500 ellipsis']\")\n",
    "title_tags[0:10]"
   ]
  },
  {
   "cell_type": "code",
   "execution_count": null,
   "metadata": {},
   "outputs": [],
   "source": [
    "for i in title_tags:\n",
    "    title=i.text()\n",
    "    job_title.append(title)\n",
    "job_title[0:10]"
   ]
  },
  {
   "cell_type": "code",
   "execution_count": null,
   "metadata": {},
   "outputs": [],
   "source": [
    "company_tags=driver.find_elements_by_xpath(\"//a[@class='subTitle ellipsis fleft']\")\n",
    "company_tags[0:10]"
   ]
  },
  {
   "cell_type": "code",
   "execution_count": null,
   "metadata": {},
   "outputs": [],
   "source": [
    "for i in company_tags:\n",
    "    comp=i.text()\n",
    "    company_names.append(comp)\n",
    "company_names[0:10]"
   ]
  },
  {
   "cell_type": "code",
   "execution_count": null,
   "metadata": {},
   "outputs": [],
   "source": [
    "loc_tags=driver.find_elements_by_xpath(\"//li[@class='fleft grey-text br2 placeHolderLi location']/span[1]\")\n",
    "loc_tags[0:10]"
   ]
  },
  {
   "cell_type": "code",
   "execution_count": null,
   "metadata": {},
   "outputs": [],
   "source": [
    "for i in loc_tags:\n",
    "    loc=i.text()\n",
    "    job_locations.append(loc)\n",
    "job_locations[0:10]"
   ]
  },
  {
   "cell_type": "code",
   "execution_count": null,
   "metadata": {},
   "outputs": [],
   "source": [
    "exp_tags=driver.find_elements_by_xpath(\"//li[@class='fleft grey-text br2 placeHolderLi experience']/span[1]\")\n",
    "exp_tags[0:10]"
   ]
  },
  {
   "cell_type": "code",
   "execution_count": null,
   "metadata": {},
   "outputs": [],
   "source": [
    "for i in exp_tags:\n",
    "    driver.get(i)\n",
    "    try:\n",
    "        experience_req.append(exp.text)\n",
    "    except:\n",
    "        experience_req.append(\"NA\")\n",
    "experience_req[0:10]"
   ]
  },
  {
   "cell_type": "code",
   "execution_count": null,
   "metadata": {},
   "outputs": [],
   "source": [
    "print(len(job_title),len(company_names),len(experience_req),len(job_locations))"
   ]
  },
  {
   "cell_type": "code",
   "execution_count": null,
   "metadata": {},
   "outputs": [],
   "source": [
    "jobs_dn=pd.DataFrame[{}]\n",
    "jobs_dn['Title']=job_title[0:10]\n",
    "jobs_dn['Company']=company_names[0:10]\n",
    "jobs_dn['Location']=job_locations[0:10]\n",
    "jobs_dn['Experience_required']=experience_req[0:10]"
   ]
  },
  {
   "cell_type": "code",
   "execution_count": null,
   "metadata": {},
   "outputs": [],
   "source": [
    "jobs_dn"
   ]
  },
  {
   "cell_type": "code",
   "execution_count": null,
   "metadata": {},
   "outputs": [],
   "source": []
  },
  {
   "cell_type": "markdown",
   "metadata": {},
   "source": [
    "Program 4- Write a python program to scrape data for first 10 job results for Data scientist \n",
    "Designation in Noida location. You have to scrape company_name, No. of days \n",
    "ago when job was posted, Rating of the company.-https://www.glassdoor.co.in/index.htm"
   ]
  },
  {
   "cell_type": "code",
   "execution_count": null,
   "metadata": {},
   "outputs": [],
   "source": [
    "driver=webdriver.Chrome(r\"C:/chromedriver_win32/chromedriver.exe\")"
   ]
  },
  {
   "cell_type": "code",
   "execution_count": null,
   "metadata": {},
   "outputs": [],
   "source": [
    "#First signed in with my email account\n",
    "driver.get(\"https://www.glassdoor.co.in/member/home/index.htm\")"
   ]
  },
  {
   "cell_type": "code",
   "execution_count": null,
   "metadata": {},
   "outputs": [],
   "source": [
    "#first logged in with mail id\n",
    "#finding element for job search bar\n",
    "search_job=driver.find_element_by_id(\"sc.keyword\")\n",
    "search_job.send_keys(\"Data Scientist\")"
   ]
  },
  {
   "cell_type": "code",
   "execution_count": null,
   "metadata": {},
   "outputs": [],
   "source": [
    "search_loc=driver.find_element_by_xpath(\"//input[@id='sc.location']\")\n",
    "search_loc.send_keys(\"Noida\")"
   ]
  },
  {
   "cell_type": "code",
   "execution_count": null,
   "metadata": {},
   "outputs": [],
   "source": [
    "search_btn=driver.find_element_by_xpath(\"//div[@class='gd-ui-button ml-std col-auto search__SearchStyles__newSearchButton css-1dqvyh7']/button\")\n",
    "search_btn.click()"
   ]
  },
  {
   "cell_type": "code",
   "execution_count": null,
   "metadata": {},
   "outputs": [],
   "source": [
    "company_names=[]\n",
    "job_posted_days=[]\n",
    "rating_list=[]"
   ]
  },
  {
   "cell_type": "code",
   "execution_count": null,
   "metadata": {},
   "outputs": [],
   "source": [
    "company_tags=driver.find_elements_by_xpath(\"//a[@class='job-search-key-l2wjgv e1n63ojh0 jobLink']\")\n",
    "company_tags[0:10]"
   ]
  },
  {
   "cell_type": "code",
   "execution_count": null,
   "metadata": {},
   "outputs": [],
   "source": [
    "for i in company_tags:\n",
    "    comp=i.text\n",
    "    company_names.append(comp)\n",
    "company_names[0:10]"
   ]
  },
  {
   "cell_type": "code",
   "execution_count": null,
   "metadata": {},
   "outputs": [],
   "source": [
    "posted_tags=driver.find_elements_by_xpath(\"//div[@class='d-flex align-items-end pl-std css-17n8uzw']\")\n",
    "posted_tags[0:10]"
   ]
  },
  {
   "cell_type": "code",
   "execution_count": null,
   "metadata": {},
   "outputs": [],
   "source": [
    "for i in posted_tags:\n",
    "    try:\n",
    "        posted_days=i.text\n",
    "        job_posted_days.append(posted_days)\n",
    "    except:\n",
    "        job_posted_days.append(\"NA\")\n",
    "job_posted_days[0:10]"
   ]
  },
  {
   "cell_type": "code",
   "execution_count": null,
   "metadata": {},
   "outputs": [],
   "source": [
    "rating_tags=driver.find_elements_by_xpath(\"//span[@class='job-search-key-srfzj0 e1cjmv6j0']\")\n",
    "rating_tags[0:10]"
   ]
  },
  {
   "cell_type": "code",
   "execution_count": null,
   "metadata": {},
   "outputs": [],
   "source": [
    "for i in rating_tags:\n",
    "    try:\n",
    "        rating=i.text\n",
    "        rating_list.append(rating)\n",
    "    except:\n",
    "        rating_list.append(\"NA\")\n",
    "rating_list[0:10]"
   ]
  },
  {
   "cell_type": "code",
   "execution_count": null,
   "metadata": {},
   "outputs": [],
   "source": [
    "print(len(company_names),len(job_posted_days),len(rating_list))"
   ]
  },
  {
   "cell_type": "code",
   "execution_count": null,
   "metadata": {},
   "outputs": [],
   "source": [
    "jobs_dsnoida=pd.DataFrame[{}]\n",
    "jobs_dsnoida['Company']=company_names[0:10]\n",
    "jobs_dsnoida['No._of_days_job_posted_ago']=job_posted_days[0:10]\n",
    "jobs_dsnoida['Ratings']=rating_list[0:10]"
   ]
  },
  {
   "cell_type": "code",
   "execution_count": null,
   "metadata": {},
   "outputs": [],
   "source": [
    "jobs_dsnoida"
   ]
  },
  {
   "cell_type": "code",
   "execution_count": null,
   "metadata": {},
   "outputs": [],
   "source": []
  },
  {
   "cell_type": "markdown",
   "metadata": {},
   "source": [
    "Program 5- Write a python program to scrape the salary data for Data Scientist designation \n",
    "in Noida location.\n",
    "You have to scrape Company name, Number of salaries, Average salary, Min\n",
    "salary, Max Salary and rating for first 10 companies. (https://www.glassdoor.co.in/Salaries/index.htm)"
   ]
  },
  {
   "cell_type": "code",
   "execution_count": null,
   "metadata": {},
   "outputs": [],
   "source": [
    "driver=webdriver.Chrome(r\"C:/chromedriver_win32/chromedriver.exe\")"
   ]
  },
  {
   "cell_type": "code",
   "execution_count": null,
   "metadata": {},
   "outputs": [],
   "source": [
    "#First signed in with my email account\n",
    "driver.get(\"https://www.glassdoor.co.in/member/home/index.htm\")"
   ]
  },
  {
   "cell_type": "code",
   "execution_count": null,
   "metadata": {},
   "outputs": [],
   "source": [
    "#first logged in with self mail id\n",
    "#finding element for job search bar\n",
    "search_job=driver.find_element_by_id(\"sc.keyword\")\n",
    "search_job.send_keys(\"Data Scientist\")"
   ]
  },
  {
   "cell_type": "code",
   "execution_count": null,
   "metadata": {},
   "outputs": [],
   "source": [
    "search_loc=driver.find_element_by_xpath(\"//input[@id='sc.location']\")\n",
    "search_loc.send_keys(\"Noida\")"
   ]
  },
  {
   "cell_type": "code",
   "execution_count": null,
   "metadata": {},
   "outputs": [],
   "source": [
    "search_btn=driver.find_element_by_xpath(\"//div[@class='gd-ui-button ml-std col-auto search__SearchStyles__newSearchButton css-1dqvyh7']/button\")\n",
    "search_btn.click()"
   ]
  },
  {
   "cell_type": "code",
   "execution_count": null,
   "metadata": {},
   "outputs": [],
   "source": [
    "company_names=[]\n",
    "no_of_salaries=[]\n",
    "average_sal=[]\n",
    "min_sal=[]\n",
    "max_sal=[]\n",
    "ratings=[]\n",
    "url=[]"
   ]
  },
  {
   "cell_type": "code",
   "execution_count": null,
   "metadata": {},
   "outputs": [],
   "source": [
    "for i in driver.find_elements_by_xpath(\"//a[@class='']\"):\n",
    "    url.append(i.get_attribute(\"href\"))\n",
    "url"
   ]
  },
  {
   "cell_type": "code",
   "execution_count": null,
   "metadata": {},
   "outputs": [],
   "source": [
    "#fetching company names\n",
    "for i in url:\n",
    "    driver.get(i)\n",
    "    time.sleep(3)    \n",
    "    company=driver.find_element_by_xpath(\"//div[@class='']/header/h1\")\n",
    "    company_names.append(company.text.replace(\"/n\", \"new line\"))\n",
    "company_names"
   ]
  },
  {
   "cell_type": "code",
   "execution_count": null,
   "metadata": {},
   "outputs": [],
   "source": [
    "#fetching no. of salaries\n",
    "for i in url:\n",
    "    driver.get(i)\n",
    "    time.sleep(3) \n",
    "    try:\n",
    "        no_sal=driver.find_element_by_xpath(\"//div[@class='']/header/h1\")\n",
    "        no_of_salaries.append(no_sal.text.replace(\"/n\", \"new line\"))\n",
    "    except:\n",
    "        no_of_salaries.append(\"NA\")\n",
    "no_of_salaries"
   ]
  },
  {
   "cell_type": "code",
   "execution_count": null,
   "metadata": {},
   "outputs": [],
   "source": [
    "#fetching max salaries\n",
    "for i in url:\n",
    "    driver.get(i)\n",
    "    time.sleep(3) \n",
    "    try:\n",
    "        max_s=driver.find_element_by_xpath(\"//div[@class='']/header/h1\")\n",
    "        max_sal.append(max_s.text.replace(\"/n\", \"new line\"))\n",
    "    except:\n",
    "        max_sal.append(\"NA\")\n",
    "max_sal        "
   ]
  },
  {
   "cell_type": "code",
   "execution_count": null,
   "metadata": {},
   "outputs": [],
   "source": [
    "#fetching min salaries\n",
    "for i in url:\n",
    "    driver.get(i)\n",
    "    time.sleep(3) \n",
    "    try:\n",
    "        min_s=driver.find_element_by_xpath(\"//div[@class='']/header/h1\")\n",
    "        min_sal.append(min_s.text.replace(\"/n\", \"new line\"))\n",
    "    except:\n",
    "        min_sal.append(\"NA\")\n",
    "min_sal        "
   ]
  },
  {
   "cell_type": "code",
   "execution_count": null,
   "metadata": {},
   "outputs": [],
   "source": [
    "#fetching average salaries\n",
    "for i in url:\n",
    "    driver.get(i)\n",
    "    time.sleep(3)\n",
    "    try:\n",
    "        avg_s=driver.find_element_by_xpath(\"//div[@class='']/header/h1\")\n",
    "        average_sal.append(avg_s.text.replace(\"/n\", \"new line\"))\n",
    "    except:\n",
    "        average_sal.append(\"NA\")\n",
    "average_sal      "
   ]
  },
  {
   "cell_type": "code",
   "execution_count": null,
   "metadata": {},
   "outputs": [],
   "source": [
    "#fetching ratings\n",
    "for i in url:\n",
    "    driver.get(i)\n",
    "    time.sleep(3)\n",
    "    try:\n",
    "        rating=driver.find_element_by_xpath(\"//div[@class='']/header/h1\")\n",
    "        ratings.append(rating.text.replace(\"/n\", \"new line\"))\n",
    "    except:\n",
    "        ratings.append(\"NA\")\n",
    "ratings "
   ]
  },
  {
   "cell_type": "code",
   "execution_count": null,
   "metadata": {},
   "outputs": [],
   "source": [
    "print(len(company_names),len(no_of_salaries),len(max_sal), len(min_sal), len(average_sal), len(ratings))"
   ]
  },
  {
   "cell_type": "code",
   "execution_count": null,
   "metadata": {},
   "outputs": [],
   "source": [
    "gd_noida=pd.DataFrame[{}]\n",
    "gd_noida['Company']=company_names[0:10]\n",
    "gd_noida['No._of_salaries']=no_of_salaries[0:10]\n",
    "gd_noida['Maximum_salary']=max_sal[0:10]\n",
    "gd_noida['Minimum_salary']=min_sal[0:10]\n",
    "gd_noida['Average_salary']=average_sal[0:10]\n",
    "gd_noida['Rating']=ratings[0:10]"
   ]
  },
  {
   "cell_type": "code",
   "execution_count": null,
   "metadata": {},
   "outputs": [],
   "source": [
    "gd_noida[:10]"
   ]
  },
  {
   "cell_type": "code",
   "execution_count": null,
   "metadata": {},
   "outputs": [],
   "source": []
  },
  {
   "cell_type": "code",
   "execution_count": null,
   "metadata": {},
   "outputs": [],
   "source": []
  },
  {
   "cell_type": "code",
   "execution_count": null,
   "metadata": {},
   "outputs": [],
   "source": []
  },
  {
   "cell_type": "code",
   "execution_count": null,
   "metadata": {},
   "outputs": [],
   "source": []
  },
  {
   "cell_type": "markdown",
   "metadata": {},
   "source": [
    "Program 6- Scrape data of first 100 sunglasses listings on flipkart.com- 'https://www.flipkart.com/' You have to \n",
    "scrape four attributes: 1. Brand, 2. Product Description, 3. Price, 4. Discount %"
   ]
  },
  {
   "cell_type": "code",
   "execution_count": null,
   "metadata": {},
   "outputs": [],
   "source": [
    "driver=webdriver.Chrome(r\"C:/chromedriver_win32/chromedriver.exe\")"
   ]
  },
  {
   "cell_type": "code",
   "execution_count": null,
   "metadata": {},
   "outputs": [],
   "source": [
    "driver.get(\"https://www.flipkart.com/\")"
   ]
  },
  {
   "cell_type": "code",
   "execution_count": null,
   "metadata": {},
   "outputs": [],
   "source": [
    "#finding element for product search bar\n",
    "search_sungl=driver.find_element_by_xpath(\"//input[@class='_3704LK']\")\n",
    "search_sungl.send_keys(\"Sunglasses\")"
   ]
  },
  {
   "cell_type": "code",
   "execution_count": null,
   "metadata": {},
   "outputs": [],
   "source": [
    "search_btn=driver.find_element_by_xpath(\"//button[@class='L0Z3Pu']\")\n",
    "search_btn.click()"
   ]
  },
  {
   "cell_type": "code",
   "execution_count": null,
   "metadata": {},
   "outputs": [],
   "source": [
    "brand=[]\n",
    "product_description=[]\n",
    "price=[]\n",
    "discount=[]\n",
    "urls=[]"
   ]
  },
  {
   "cell_type": "code",
   "execution_count": null,
   "metadata": {},
   "outputs": [],
   "source": [
    "#first page (has total 40 items)\n",
    "for i in driver.find_elements_by_xpath(\"//a[@class='IRpwTa']\"):\n",
    "    urls.append(i.get_attribute(\"href\"))\n",
    "urls"
   ]
  },
  {
   "cell_type": "code",
   "execution_count": null,
   "metadata": {},
   "outputs": [],
   "source": [
    "for i in urls:\n",
    "    driver.get(i)\n",
    "    time.sleep(3)\n",
    "    br=driver.find_element_by_xpath(\"//span[@class='G6XhRU']\")\n",
    "    brand.append(br.text)\n",
    "    try:\n",
    "        pr=driver.find_element_by_xpath(\"div[@class='_30jeq3 _16Jk6d']\")\n",
    "        price.append(pr.text)\n",
    "    except:\n",
    "        price.append(\"NA\")\n",
    "        try:\n",
    "            disc=driver.find_element_by_xpath(\"//div[@class='_3Ay6Sb _31Dcoz pZkvcx']\")\n",
    "            discount.append(disc.text)\n",
    "        except:\n",
    "            discount.append(\"NA\")\n",
    "            try:\n",
    "                pro_desc=driver.find_element_by_xpath(\"//span[@class='B_NuCI']\")\n",
    "                product_description.append(pro_desc.text)\n",
    "            except:\n",
    "                product_description.append(\"NA\")"
   ]
  },
  {
   "cell_type": "code",
   "execution_count": null,
   "metadata": {},
   "outputs": [],
   "source": [
    "#click on Next button\n",
    "driver.get(\"https://www.flipkart.com/search?q=Sunglasses&otracker=search&otracker1=search&marketplace=FLIPKART&as-show=on&as=off\")\n",
    "next_btn=driver.find_element_by_xpath(\"//span[text()='Next']\")\n",
    "next_btn.click()"
   ]
  },
  {
   "cell_type": "code",
   "execution_count": null,
   "metadata": {},
   "outputs": [],
   "source": [
    "#40 items on next page( page no. 2)\n",
    "for i in urls:\n",
    "    driver.get(i)\n",
    "    time.sleep(3)\n",
    "    br=driver.find_element_by_xpath(\"//span[@class='G6XhRU']\")\n",
    "    brand.append(br.text)\n",
    "    try:\n",
    "        pr=driver.find_element_by_xpath(\"div[@class='_30jeq3 _16Jk6d']\")\n",
    "        price.append(pr.text)\n",
    "    except:\n",
    "        price.append(\"NA\")\n",
    "        try:\n",
    "            disc=driver.find_element_by_xpath(\"//div[@class='_3Ay6Sb _31Dcoz pZkvcx']\")\n",
    "            discount.append(disc.text)\n",
    "        except:\n",
    "            discount.append(\"NA\")\n",
    "            try:\n",
    "                pro_desc=driver.find_element_by_xpath(\"//span[@class='B_NuCI']\")\n",
    "                product_description.append(pro_desc.text)\n",
    "            except:\n",
    "                product_description.append(\"NA\")"
   ]
  },
  {
   "cell_type": "code",
   "execution_count": null,
   "metadata": {},
   "outputs": [],
   "source": [
    "#click on Next button\n",
    "driver.get(\"https://www.flipkart.com/search?q=Sunglasses&otracker=search&otracker1=search&marketplace=FLIPKART&as-show=on&as=off&page=2\")\n",
    "next_btn=driver.find_element_by_xpath(\"//span[text()='Next']\")\n",
    "next_btn.click()"
   ]
  },
  {
   "cell_type": "code",
   "execution_count": null,
   "metadata": {},
   "outputs": [],
   "source": [
    "#for remaining 20 items of page no.3\n",
    "for i in urls:\n",
    "    driver.get(i)\n",
    "    time.sleep(3)\n",
    "    br=driver.find_element_by_xpath(\"//span[@class='G6XhRU']\")\n",
    "    brand.append(br.text)\n",
    "    try:\n",
    "        pr=driver.find_element_by_xpath(\"div[@class='_30jeq3 _16Jk6d']\")\n",
    "        price.append(pr.text)\n",
    "    except:\n",
    "        price.append(\"NA\")\n",
    "        try:\n",
    "            disc=driver.find_element_by_xpath(\"//div[@class='_3Ay6Sb _31Dcoz pZkvcx']\")\n",
    "            discount.append(disc.text)\n",
    "        except:\n",
    "            discount.append(\"NA\")\n",
    "            try:\n",
    "                pro_desc=driver.find_element_by_xpath(\"//span[@class='B_NuCI']\")\n",
    "                product_description.append(pro_desc.text)\n",
    "            except:\n",
    "                product_description.append(\"NA\")"
   ]
  },
  {
   "cell_type": "code",
   "execution_count": null,
   "metadata": {},
   "outputs": [],
   "source": [
    "brand"
   ]
  },
  {
   "cell_type": "code",
   "execution_count": null,
   "metadata": {},
   "outputs": [],
   "source": [
    "price"
   ]
  },
  {
   "cell_type": "code",
   "execution_count": null,
   "metadata": {},
   "outputs": [],
   "source": [
    "discount"
   ]
  },
  {
   "cell_type": "code",
   "execution_count": null,
   "metadata": {},
   "outputs": [],
   "source": [
    "product_description"
   ]
  },
  {
   "cell_type": "code",
   "execution_count": null,
   "metadata": {},
   "outputs": [],
   "source": [
    "print(len(brand), len(price), len(discount), len(product_description))"
   ]
  },
  {
   "cell_type": "code",
   "execution_count": null,
   "metadata": {},
   "outputs": [],
   "source": [
    "sunglasses=[{}]\n",
    "sunglasses[\"Brand\"]=brand[:100]\n",
    "sunglasses[\"Product_description\"]=product_description[:100]\n",
    "sunglasses[\"Price\"]=price[:100]\n",
    "sunglasses[\"Discount\"]=discount[:100]"
   ]
  },
  {
   "cell_type": "code",
   "execution_count": null,
   "metadata": {},
   "outputs": [],
   "source": [
    "sunglasses[:100]"
   ]
  },
  {
   "cell_type": "markdown",
   "metadata": {},
   "source": [
    "Program 7- Scrape 100 reviews data from flipkart.com for iphone11 phone. You have to \n",
    "go the link: https://www.flipkart.com/apple-iphone-11-black-64-gb-includes\u0002earpods-power\u0002adapter/p/itm0f37c2240b217?pid=MOBFKCTSVZAXUHGR&lid=LSTMOBFKC\n",
    "TSVZAXUHGREPBFGI&marketplace.  You have to scrape the tick marked attributes.\n",
    "These are- 1. Rating, 2. Review_summary, 3. Full review. You have to scrape this data for first 100 reviews"
   ]
  },
  {
   "cell_type": "code",
   "execution_count": null,
   "metadata": {},
   "outputs": [],
   "source": [
    "driver=webdriver.Chrome(r\"C:/chromedriver_win32/chromedriver.exe\")"
   ]
  },
  {
   "cell_type": "code",
   "execution_count": null,
   "metadata": {},
   "outputs": [],
   "source": [
    "driver.get(\"https://www.flipkart.com/apple-iphone-11-black-64-gb-includes\u0002earpods-power\u0002adapter/p/itm0f37c2240b217?pid=MOBFKCTSVZAXUHGR&lid=LSTMOBFKC TSVZAXUHGREPBFGI&marketplace\")"
   ]
  },
  {
   "cell_type": "code",
   "execution_count": null,
   "metadata": {},
   "outputs": [],
   "source": [
    "rating=[]\n",
    "review_summary=[]\n",
    "full_review=[]\n",
    "urls=[]"
   ]
  },
  {
   "cell_type": "code",
   "execution_count": null,
   "metadata": {},
   "outputs": [],
   "source": [
    "review_button=driver.find_element_by_xpath(\"//span[@class='MCE--B']\")\n",
    "review_button.click()"
   ]
  },
  {
   "cell_type": "code",
   "execution_count": null,
   "metadata": {},
   "outputs": [],
   "source": [
    "for i in rating_tags:\n",
    "    try:\n",
    "        ratings=driver.find_element_by_xpath(\"//div[@class='_3LWZlK _1BLPMq']\")\n",
    "        rating.append(ratings.text)\n",
    "    except:\n",
    "        rating.append(\"NA\")\n",
    "rating[:100]"
   ]
  },
  {
   "cell_type": "code",
   "execution_count": null,
   "metadata": {},
   "outputs": [],
   "source": [
    "full_rev_tags=driver.find_elements_by_xpath(\"//div[@class='row']\")\n",
    "full_rev_tags"
   ]
  },
  {
   "cell_type": "code",
   "execution_count": null,
   "metadata": {},
   "outputs": [],
   "source": [
    "for i in full_rev_tags:\n",
    "    try:\n",
    "        full_rev=driver.find_element_by_xpath()\n",
    "        full_review.append(full_rev.text)\n",
    "    except:\n",
    "        full_review.append(\"NA\")\n",
    "full_review[:100]"
   ]
  },
  {
   "cell_type": "code",
   "execution_count": null,
   "metadata": {},
   "outputs": [],
   "source": [
    "rev_summ=driver.find_elements_by_xpath(\"//div[@class='row']\")\n",
    "rev_summ"
   ]
  },
  {
   "cell_type": "code",
   "execution_count": null,
   "metadata": {},
   "outputs": [],
   "source": [
    "for i in rev_summ:\n",
    "    try:\n",
    "        rev=driver.find_element_by_xpath()\n",
    "        review_summary.append(rev.text)\n",
    "    except:\n",
    "        review_summary.append(\"NA\")\n",
    "review_summary[:100]"
   ]
  },
  {
   "cell_type": "code",
   "execution_count": null,
   "metadata": {},
   "outputs": [],
   "source": [
    "print(len(rating), len(review_summary), len(full_review))"
   ]
  },
  {
   "cell_type": "code",
   "execution_count": null,
   "metadata": {},
   "outputs": [],
   "source": [
    "iphone11=pd.DataFrame[{}]\n",
    "iphone11[\"Rating\"]=rating[:100]\n",
    "iphone11[\"Review_summary\"]=review_summary[:100]\n",
    "iphone11[\"Full_review\"]=full_review[:100]\n",
    "iphone11[:100]"
   ]
  },
  {
   "cell_type": "markdown",
   "metadata": {},
   "source": [
    "Program 8- Scrape data for first 100 sneakers you find when you visit flipkart.com and \n",
    "search for “sneakers” in the search field.\n",
    "You have to scrape 4 attributes of each sneaker : 1. Brand, 2. Product Description, 3. Price, 4. discount %"
   ]
  },
  {
   "cell_type": "code",
   "execution_count": 179,
   "metadata": {},
   "outputs": [],
   "source": [
    "driver=webdriver.Chrome(r\"C:/chromedriver_win32/chromedriver.exe\")"
   ]
  },
  {
   "cell_type": "code",
   "execution_count": 180,
   "metadata": {},
   "outputs": [],
   "source": [
    "driver.get(\"https://www.flipkart.com/\")"
   ]
  },
  {
   "cell_type": "code",
   "execution_count": 181,
   "metadata": {},
   "outputs": [],
   "source": [
    "#finding element for product search bar\n",
    "search_sn=driver.find_element_by_xpath(\"//input[@class='_3704LK']\")\n",
    "search_sn.send_keys(\"Sneakers\")"
   ]
  },
  {
   "cell_type": "code",
   "execution_count": 182,
   "metadata": {},
   "outputs": [],
   "source": [
    "search_btn=driver.find_element_by_xpath(\"//button[@class='L0Z3Pu']\")\n",
    "search_btn.click()"
   ]
  },
  {
   "cell_type": "code",
   "execution_count": 183,
   "metadata": {},
   "outputs": [],
   "source": [
    "brand=[]\n",
    "product_description=[]\n",
    "price=[]\n",
    "discount=[]\n",
    "urls=[]"
   ]
  },
  {
   "cell_type": "code",
   "execution_count": 184,
   "metadata": {},
   "outputs": [
    {
     "data": {
      "text/plain": [
       "['https://www.flipkart.com/birde-men-s-stylish-casual-shoes-sneakers-men/p/itmaddd925a85737?pid=SHOFYTVEWNMBDZWN&lid=LSTSHOFYTVEWNMBDZWNEIZWFD&marketplace=FLIPKART&q=Sneakers&store=osp%2Fcil%2Fe1f&srno=s_1_1&otracker=search&otracker1=search&fm=SEARCH&iid=en_eE5FHcO2B5B0pREyJAsup4y60fMUUBgshDyyHo1zJuGNcAuiQKTntPB%2FEsSv50W2DahAdFHeUk%2B9drBsM2Uizg%3D%3D&ppt=hp&ppn=homepage&ssid=pnr69a7rk00000001634405542213&qH=ea24260ef5764089',\n",
       " 'https://www.flipkart.com/chevit-speed-set-5-pairs-sneakers-outdoors-casuals-men/p/itmccd9dcb86e757?pid=SHOFWJJFGKQEQFFW&lid=LSTSHOFWJJFGKQEQFFW0CKGNI&marketplace=FLIPKART&q=Sneakers&store=osp%2Fcil%2Fe1f&srno=s_1_2&otracker=search&otracker1=search&fm=SEARCH&iid=en_eE5FHcO2B5B0pREyJAsup4y60fMUUBgshDyyHo1zJuGGta%2B%2F2Gw29M05w3fS4rt9ARSjt0L37GgGytM0KeFKew%3D%3D&ppt=hp&ppn=homepage&ssid=pnr69a7rk00000001634405542213&qH=ea24260ef5764089',\n",
       " 'https://www.flipkart.com/d-sneakerz-casual-partywear-sneakers-shoes-men-s-boys-white-color-men/p/itmf3xujnyvhbeqh?pid=SHOFFT35TZJFPTA4&lid=LSTSHOFFT35TZJFPTA4GQXUMX&marketplace=FLIPKART&q=Sneakers&store=osp%2Fcil%2Fe1f&srno=s_1_3&otracker=search&otracker1=search&fm=SEARCH&iid=ba33b6b4-317a-4877-bf9a-eba4b2208147.SHOFFT35TZJFPTA4.SEARCH&ppt=hp&ppn=homepage&ssid=pnr69a7rk00000001634405542213&qH=ea24260ef5764089',\n",
       " 'https://www.flipkart.com/birde-trendy-casual-shoes-sneakers-men/p/itmede861a907625?pid=SHOGFEZ9FSZEHNUT&lid=LSTSHOGFEZ9FSZEHNUTEYC3ZJ&marketplace=FLIPKART&q=Sneakers&store=osp%2Fcil%2Fe1f&srno=s_1_4&otracker=search&otracker1=search&fm=SEARCH&iid=ba33b6b4-317a-4877-bf9a-eba4b2208147.SHOGFEZ9FSZEHNUT.SEARCH&ppt=hp&ppn=homepage&ssid=pnr69a7rk00000001634405542213&qH=ea24260ef5764089',\n",
       " 'https://www.flipkart.com/numenzo-411-casual-sneakers-men/p/itm12368ade2be34?pid=SHOG3MZFKCMDKSBG&lid=LSTSHOG3MZFKCMDKSBGNCOMVX&marketplace=FLIPKART&q=Sneakers&store=osp%2Fcil%2Fe1f&srno=s_1_5&otracker=search&otracker1=search&fm=SEARCH&iid=ba33b6b4-317a-4877-bf9a-eba4b2208147.SHOG3MZFKCMDKSBG.SEARCH&ppt=hp&ppn=homepage&ssid=pnr69a7rk00000001634405542213&qH=ea24260ef5764089',\n",
       " 'https://www.flipkart.com/magnolia-sneakers-men/p/itmb42a681797f2d?pid=SHOGYAACUZJ842YX&lid=LSTSHOGYAACUZJ842YXXWGT2A&marketplace=FLIPKART&q=Sneakers&store=osp%2Fcil%2Fe1f&srno=s_1_6&otracker=search&otracker1=search&fm=SEARCH&iid=ba33b6b4-317a-4877-bf9a-eba4b2208147.SHOGYAACUZJ842YX.SEARCH&ppt=hp&ppn=homepage&ssid=pnr69a7rk00000001634405542213&qH=ea24260ef5764089',\n",
       " 'https://www.flipkart.com/robbie-jones-casual-sneakers-shoes-men/p/itm5ee18096b212e?pid=SHOFVJG9EBCW5SUB&lid=LSTSHOFVJG9EBCW5SUBT1O0T7&marketplace=FLIPKART&q=Sneakers&store=osp%2Fcil%2Fe1f&srno=s_1_7&otracker=search&otracker1=search&fm=SEARCH&iid=ba33b6b4-317a-4877-bf9a-eba4b2208147.SHOFVJG9EBCW5SUB.SEARCH&ppt=hp&ppn=homepage&ssid=pnr69a7rk00000001634405542213&qH=ea24260ef5764089',\n",
       " 'https://www.flipkart.com/chevit-super-stylish-trendy-combo-pack-02-pairs-sneakers-outdoor-loafer-sports-running-rock-climbing-gym-shoes-men/p/itmfce3a6f2183d4?pid=SHOGFVTAG39Y7ZHY&lid=LSTSHOGFVTAG39Y7ZHYPHBMOZ&marketplace=FLIPKART&q=Sneakers&store=osp%2Fcil%2Fe1f&srno=s_1_8&otracker=search&otracker1=search&fm=SEARCH&iid=en_eE5FHcO2B5B0pREyJAsup4y60fMUUBgshDyyHo1zJuG8kNjySukIsuT2yyEnypKCY%2Fd0%2FFqlKcwbWe9%2BqjkI0A%3D%3D&ppt=hp&ppn=homepage&ssid=pnr69a7rk00000001634405542213&qH=ea24260ef5764089',\n",
       " 'https://www.flipkart.com/bruton-combo-pack-4-casual-shoes-loafer-sneakers-men/p/itmc6896607b3f0f?pid=SHOFUXXZZEU8Z3E6&lid=LSTSHOFUXXZZEU8Z3E68COZPZ&marketplace=FLIPKART&q=Sneakers&store=osp%2Fcil%2Fe1f&srno=s_1_9&otracker=search&otracker1=search&fm=SEARCH&iid=ba33b6b4-317a-4877-bf9a-eba4b2208147.SHOFUXXZZEU8Z3E6.SEARCH&ppt=hp&ppn=homepage&ssid=pnr69a7rk00000001634405542213&qH=ea24260ef5764089',\n",
       " 'https://www.flipkart.com/bruton-modern-trendy-sneakers-shoes-men/p/itmc472111af8e07?pid=SHOG293HVNGZFYYG&lid=LSTSHOG293HVNGZFYYGKWCPDF&marketplace=FLIPKART&q=Sneakers&store=osp%2Fcil%2Fe1f&srno=s_1_10&otracker=search&otracker1=search&fm=SEARCH&iid=ba33b6b4-317a-4877-bf9a-eba4b2208147.SHOG293HVNGZFYYG.SEARCH&ppt=hp&ppn=homepage&ssid=pnr69a7rk00000001634405542213&qH=ea24260ef5764089',\n",
       " 'https://www.flipkart.com/hotstyle-sneakers-men/p/itm071be697faf47?pid=SHOG4KJFJZTNGJ67&lid=LSTSHOG4KJFJZTNGJ67AUMQBB&marketplace=FLIPKART&q=Sneakers&store=osp%2Fcil%2Fe1f&srno=s_1_11&otracker=search&otracker1=search&fm=SEARCH&iid=ba33b6b4-317a-4877-bf9a-eba4b2208147.SHOG4KJFJZTNGJ67.SEARCH&ppt=hp&ppn=homepage&ssid=pnr69a7rk00000001634405542213&qH=ea24260ef5764089',\n",
       " 'https://www.flipkart.com/kraasa-young-choice-sneakers-men/p/itmf62b83d8d3843?pid=SHOFMHDJHCZEXC9B&lid=LSTSHOFMHDJHCZEXC9BCMV4WQ&marketplace=FLIPKART&q=Sneakers&store=osp%2Fcil%2Fe1f&srno=s_1_12&otracker=search&otracker1=search&fm=SEARCH&iid=en_eE5FHcO2B5B0pREyJAsup4y60fMUUBgshDyyHo1zJuEOtzJLglxFqX8SnV1i7q7WoZqreUlxPBf3TCjnhKI9lA%3D%3D&ppt=hp&ppn=homepage&ssid=pnr69a7rk00000001634405542213&qH=ea24260ef5764089',\n",
       " 'https://www.flipkart.com/numenzo-sneakers-men/p/itm3ffb692d4132c?pid=SHOG4K76K37AJJJG&lid=LSTSHOG4K76K37AJJJGA2PPOF&marketplace=FLIPKART&q=Sneakers&store=osp%2Fcil%2Fe1f&srno=s_1_13&otracker=search&otracker1=search&fm=SEARCH&iid=ba33b6b4-317a-4877-bf9a-eba4b2208147.SHOG4K76K37AJJJG.SEARCH&ppt=hp&ppn=homepage&ssid=pnr69a7rk00000001634405542213&qH=ea24260ef5764089',\n",
       " 'https://www.flipkart.com/robbie-jones-sneakers-men/p/itmd94e79e694d23?pid=SHOG6YZMMSEF4FG6&lid=LSTSHOG6YZMMSEF4FG6UMTILU&marketplace=FLIPKART&q=Sneakers&store=osp%2Fcil%2Fe1f&srno=s_1_14&otracker=search&otracker1=search&fm=SEARCH&iid=ba33b6b4-317a-4877-bf9a-eba4b2208147.SHOG6YZMMSEF4FG6.SEARCH&ppt=hp&ppn=homepage&ssid=pnr69a7rk00000001634405542213&qH=ea24260ef5764089',\n",
       " 'https://www.flipkart.com/bluemaker-casual-men-sneakers/p/itm02405f7701115?pid=SHOFP4YXJZFGWHAU&lid=LSTSHOFP4YXJZFGWHAUSWYMCO&marketplace=FLIPKART&q=Sneakers&store=osp%2Fcil%2Fe1f&srno=s_1_15&otracker=search&otracker1=search&fm=SEARCH&iid=ba33b6b4-317a-4877-bf9a-eba4b2208147.SHOFP4YXJZFGWHAU.SEARCH&ppt=hp&ppn=homepage&ssid=pnr69a7rk00000001634405542213&qH=ea24260ef5764089',\n",
       " 'https://www.flipkart.com/nautica-sneakers-men/p/itm9b70c903c2441?pid=SHOG5GV6FMWN7EE2&lid=LSTSHOG5GV6FMWN7EE2NJ6UPE&marketplace=FLIPKART&q=Sneakers&store=osp%2Fcil%2Fe1f&srno=s_1_16&otracker=search&otracker1=search&fm=SEARCH&iid=en_eE5FHcO2B5B0pREyJAsup4y60fMUUBgshDyyHo1zJuFmGlFLLzMvHsnAZxK1afWLZkaHlAYXz7K6EhrXGFvN9A%3D%3D&ppt=hp&ppn=homepage&ssid=pnr69a7rk00000001634405542213&qH=ea24260ef5764089',\n",
       " 'https://www.flipkart.com/believe-sneakers-men-black-6-men/p/itmfdyhg8ezwgav9?pid=SHOFDXWW9M7YNPPM&lid=LSTSHOFDXWW9M7YNPPM46ICQT&marketplace=FLIPKART&q=Sneakers&store=osp%2Fcil%2Fe1f&srno=s_1_17&otracker=search&otracker1=search&fm=SEARCH&iid=ba33b6b4-317a-4877-bf9a-eba4b2208147.SHOFDXWW9M7YNPPM.SEARCH&ppt=hp&ppn=homepage&ssid=pnr69a7rk00000001634405542213&qH=ea24260ef5764089',\n",
       " 'https://www.flipkart.com/edoeviv-luxury-branded-fashionable-men-s-casual-walking-partywear-sneakers-running-white-shoes-men/p/itm507202525ac70?pid=SHOG42Q7UXCSJGKT&lid=LSTSHOG42Q7UXCSJGKTY4XBMJ&marketplace=FLIPKART&q=Sneakers&store=osp%2Fcil%2Fe1f&srno=s_1_18&otracker=search&otracker1=search&fm=SEARCH&iid=ba33b6b4-317a-4877-bf9a-eba4b2208147.SHOG42Q7UXCSJGKT.SEARCH&ppt=hp&ppn=homepage&ssid=pnr69a7rk00000001634405542213&qH=ea24260ef5764089',\n",
       " 'https://www.flipkart.com/kraasa-series-7-sneakers-men/p/itmda307099c343b?pid=SHOGF3MZKVDZXJAG&lid=LSTSHOGF3MZKVDZXJAGXKY8AC&marketplace=FLIPKART&q=Sneakers&store=osp%2Fcil%2Fe1f&srno=s_1_19&otracker=search&otracker1=search&fm=SEARCH&iid=ba33b6b4-317a-4877-bf9a-eba4b2208147.SHOGF3MZKVDZXJAG.SEARCH&ppt=hp&ppn=homepage&ssid=pnr69a7rk00000001634405542213&qH=ea24260ef5764089',\n",
       " 'https://www.flipkart.com/nike-court-vision-low-canvas-men-s-shoe-sneakers-men/p/itm45efabb40f163?pid=SHOG3GB39PTBGQYB&lid=LSTSHOG3GB39PTBGQYBUEXI2Q&marketplace=FLIPKART&q=Sneakers&store=osp%2Fcil%2Fe1f&srno=s_1_20&otracker=search&otracker1=search&fm=SEARCH&iid=en_eE5FHcO2B5B0pREyJAsup4y60fMUUBgshDyyHo1zJuG09wBknyl84%2FL5pAhFPMsTR0MY0CctcLwFXWptHOUSjA%3D%3D&ppt=hp&ppn=homepage&ssid=pnr69a7rk00000001634405542213&qH=ea24260ef5764089',\n",
       " 'https://www.flipkart.com/birde-men-s-stylish-casual-shoes-sneakers-men/p/itmaddd925a85737?pid=SHOFYTVECQZFMGFR&lid=LSTSHOFYTVECQZFMGFRXQYPEX&marketplace=FLIPKART&q=Sneakers&store=osp%2Fcil%2Fe1f&srno=s_1_21&otracker=search&otracker1=search&fm=SEARCH&iid=ba33b6b4-317a-4877-bf9a-eba4b2208147.SHOFYTVECQZFMGFR.SEARCH&ppt=hp&ppn=homepage&ssid=pnr69a7rk00000001634405542213&qH=ea24260ef5764089',\n",
       " 'https://www.flipkart.com/asteroid-original-luxury-branded-fashionable-men-s-casual-walking-partywear-sneakers-running-white-shoes-men/p/itmadb9562baf1cd?pid=SHOG3F72H7HBVCSW&lid=LSTSHOG3F72H7HBVCSW2FOWAK&marketplace=FLIPKART&q=Sneakers&store=osp%2Fcil%2Fe1f&srno=s_1_22&otracker=search&otracker1=search&fm=SEARCH&iid=ba33b6b4-317a-4877-bf9a-eba4b2208147.SHOG3F72H7HBVCSW.SEARCH&ppt=hp&ppn=homepage&ssid=pnr69a7rk00000001634405542213&qH=ea24260ef5764089',\n",
       " 'https://www.flipkart.com/nautica-sneakers-men/p/itmacff4b83a0966?pid=SHOG5GV5J7AA2DZH&lid=LSTSHOG5GV5J7AA2DZHUDQ3VV&marketplace=FLIPKART&q=Sneakers&store=osp%2Fcil%2Fe1f&srno=s_1_24&otracker=search&otracker1=search&fm=SEARCH&iid=en_eE5FHcO2B5B0pREyJAsup4y60fMUUBgshDyyHo1zJuHaWfgRLHnYTiqWcVaBQd%2F4PPn6Bhu8Req7mDzLl9Vnqw%3D%3D&ppt=hp&ppn=homepage&ssid=pnr69a7rk00000001634405542213&qH=ea24260ef5764089',\n",
       " 'https://www.flipkart.com/numenzo-sneakers-men/p/itm072bfb0c5e869?pid=SHOFZ4RGEGXFYHY9&lid=LSTSHOFZ4RGEGXFYHY9UPNWTY&marketplace=FLIPKART&q=Sneakers&store=osp%2Fcil%2Fe1f&srno=s_1_25&otracker=search&otracker1=search&fm=SEARCH&iid=ba33b6b4-317a-4877-bf9a-eba4b2208147.SHOFZ4RGEGXFYHY9.SEARCH&ppt=hp&ppn=homepage&ssid=pnr69a7rk00000001634405542213&qH=ea24260ef5764089',\n",
       " 'https://www.flipkart.com/chevit-perfect-affordable-combo-pack-02-pairs-sneakers-outdoor-loafer-sports-running-rock-climbing-gym-shoes-men/p/itm66ea1242a9ea5?pid=SHOGYRVMYHSC9GDA&lid=LSTSHOGYRVMYHSC9GDAQQTHTH&marketplace=FLIPKART&q=Sneakers&store=osp%2Fcil%2Fe1f&srno=s_1_26&otracker=search&otracker1=search&fm=SEARCH&iid=ba33b6b4-317a-4877-bf9a-eba4b2208147.SHOGYRVMYHSC9GDA.SEARCH&ppt=hp&ppn=homepage&ssid=pnr69a7rk00000001634405542213&qH=ea24260ef5764089',\n",
       " 'https://www.flipkart.com/essence-sneakers-men/p/itmc3d0142b55301?pid=SHOFK4QZUDRBA27A&lid=LSTSHOFK4QZUDRBA27A4QF6JM&marketplace=FLIPKART&q=Sneakers&store=osp%2Fcil%2Fe1f&srno=s_1_27&otracker=search&otracker1=search&fm=SEARCH&iid=ba33b6b4-317a-4877-bf9a-eba4b2208147.SHOFK4QZUDRBA27A.SEARCH&ppt=hp&ppn=homepage&ssid=pnr69a7rk00000001634405542213&qH=ea24260ef5764089',\n",
       " 'https://www.flipkart.com/puma-vikky-v2-sneakers-men/p/itm14b1d9cd63d11?pid=SHOG5HFQ5HMNHWPH&lid=LSTSHOG5HFQ5HMNHWPHVUXNSN&marketplace=FLIPKART&q=Sneakers&store=osp%2Fcil%2Fe1f&srno=s_1_28&otracker=search&otracker1=search&fm=SEARCH&iid=en_eE5FHcO2B5B0pREyJAsup4y60fMUUBgshDyyHo1zJuE0rE4Z0XyVMXrQhWp6uWJ9scDyCabw3t%2BzLWdZDIrKlA%3D%3D&ppt=hp&ppn=homepage&ssid=pnr69a7rk00000001634405542213&qH=ea24260ef5764089',\n",
       " 'https://www.flipkart.com/bruton-lattest-sneakers-shoe-men/p/itm42e4e64429e8b?pid=SHOG293HHXSZ2TQZ&lid=LSTSHOG293HHXSZ2TQZTWXQ9R&marketplace=FLIPKART&q=Sneakers&store=osp%2Fcil%2Fe1f&srno=s_1_29&otracker=search&otracker1=search&fm=SEARCH&iid=ba33b6b4-317a-4877-bf9a-eba4b2208147.SHOG293HHXSZ2TQZ.SEARCH&ppt=hp&ppn=homepage&ssid=pnr69a7rk00000001634405542213&qH=ea24260ef5764089',\n",
       " 'https://www.flipkart.com/roddick-shoes-fashion-outdoor-canvas-casual-light-weight-lace-up-evening-walk-running-men-sneakers/p/itmef0811c89a216?pid=SHOG48DDGW55HG7A&lid=LSTSHOG48DDGW55HG7AV7DM9G&marketplace=FLIPKART&q=Sneakers&store=osp%2Fcil%2Fe1f&spotlightTagId=TrendingId_osp%2Fcil%2Fe1f&srno=s_1_30&otracker=search&otracker1=search&fm=SEARCH&iid=ba33b6b4-317a-4877-bf9a-eba4b2208147.SHOG48DDGW55HG7A.SEARCH&ppt=hp&ppn=homepage&ssid=pnr69a7rk00000001634405542213&qH=ea24260ef5764089',\n",
       " 'https://www.flipkart.com/chevit-168-smart-red-lace-ups-casuals-men-sneakers/p/itm5c134759c0c78?pid=SHOFZD8F3XGYZWSB&lid=LSTSHOFZD8F3XGYZWSB8XQUQL&marketplace=FLIPKART&q=Sneakers&store=osp%2Fcil%2Fe1f&srno=s_1_31&otracker=search&otracker1=search&fm=SEARCH&iid=ba33b6b4-317a-4877-bf9a-eba4b2208147.SHOFZD8F3XGYZWSB.SEARCH&ppt=hp&ppn=homepage&ssid=pnr69a7rk00000001634405542213&qH=ea24260ef5764089',\n",
       " 'https://www.flipkart.com/nautica-sneakers-men/p/itm77c25c7f142f5?pid=SHOG5GV7GWQAVBVZ&lid=LSTSHOG5GV7GWQAVBVZ9LJQAA&marketplace=FLIPKART&q=Sneakers&store=osp%2Fcil%2Fe1f&srno=s_1_32&otracker=search&otracker1=search&fm=SEARCH&iid=en_eE5FHcO2B5B0pREyJAsup4y60fMUUBgshDyyHo1zJuFVOUbAMu%2FQEV5tEgkMDYsCF%2F0QDZ1DzD4eQrb9alpn%2BA%3D%3D&ppt=hp&ppn=homepage&ssid=pnr69a7rk00000001634405542213&qH=ea24260ef5764089',\n",
       " 'https://www.flipkart.com/india-hub-sneakers-men/p/itma213a7f669ab0?pid=SHOG5B7FQZKY7SGU&lid=LSTSHOG5B7FQZKY7SGU6AGD29&marketplace=FLIPKART&q=Sneakers&store=osp%2Fcil%2Fe1f&srno=s_1_33&otracker=search&otracker1=search&fm=SEARCH&iid=ba33b6b4-317a-4877-bf9a-eba4b2208147.SHOG5B7FQZKY7SGU.SEARCH&ppt=hp&ppn=homepage&ssid=pnr69a7rk00000001634405542213&qH=ea24260ef5764089',\n",
       " 'https://www.flipkart.com/airland-shoe-sneakers-men/p/itm1afbf93d2e019?pid=SHOFZ37YEQPE4ZG9&lid=LSTSHOFZ37YEQPE4ZG98YACHE&marketplace=FLIPKART&q=Sneakers&store=osp%2Fcil%2Fe1f&srno=s_1_34&otracker=search&otracker1=search&fm=SEARCH&iid=ba33b6b4-317a-4877-bf9a-eba4b2208147.SHOFZ37YEQPE4ZG9.SEARCH&ppt=hp&ppn=homepage&ssid=pnr69a7rk00000001634405542213&qH=ea24260ef5764089',\n",
       " 'https://www.flipkart.com/robbie-jones-sneakers-men/p/itmed5242b75c69f?pid=SHOG5Y5AKNTT8DPC&lid=LSTSHOG5Y5AKNTT8DPCNVIEV5&marketplace=FLIPKART&q=Sneakers&store=osp%2Fcil%2Fe1f&srno=s_1_35&otracker=search&otracker1=search&fm=SEARCH&iid=ba33b6b4-317a-4877-bf9a-eba4b2208147.SHOG5Y5AKNTT8DPC.SEARCH&ppt=hp&ppn=homepage&ssid=pnr69a7rk00000001634405542213&qH=ea24260ef5764089',\n",
       " 'https://www.flipkart.com/paragon-sneakers-men/p/itmea11861f194d5?pid=SHOFNZHFDNEZHPJR&lid=LSTSHOFNZHFDNEZHPJRH3NQ96&marketplace=FLIPKART&q=Sneakers&store=osp%2Fcil%2Fe1f&srno=s_1_36&otracker=search&otracker1=search&fm=SEARCH&iid=en_eE5FHcO2B5B0pREyJAsup4y60fMUUBgshDyyHo1zJuE3hu3jrMCR%2FCs89yh6wXad7FblNRk218FoL1eKHP3oqA%3D%3D&ppt=hp&ppn=homepage&ssid=pnr69a7rk00000001634405542213&qH=ea24260ef5764089',\n",
       " 'https://www.flipkart.com/arohi-sneakers-men/p/itm6902e4b22d54d?pid=SHOFZUBJEZGYCJXZ&lid=LSTSHOFZUBJEZGYCJXZQBFB6N&marketplace=FLIPKART&q=Sneakers&store=osp%2Fcil%2Fe1f&srno=s_1_37&otracker=search&otracker1=search&fm=SEARCH&iid=ba33b6b4-317a-4877-bf9a-eba4b2208147.SHOFZUBJEZGYCJXZ.SEARCH&ppt=hp&ppn=homepage&ssid=pnr69a7rk00000001634405542213&qH=ea24260ef5764089',\n",
       " 'https://www.flipkart.com/robbie-jones-sneakers-men/p/itmf96edf62c37d8?pid=SHOG6YH4JDYZKGGJ&lid=LSTSHOG6YH4JDYZKGGJQG5RSU&marketplace=FLIPKART&q=Sneakers&store=osp%2Fcil%2Fe1f&srno=s_1_39&otracker=search&otracker1=search&fm=SEARCH&iid=ba33b6b4-317a-4877-bf9a-eba4b2208147.SHOG6YH4JDYZKGGJ.SEARCH&ppt=hp&ppn=homepage&ssid=pnr69a7rk00000001634405542213&qH=ea24260ef5764089',\n",
       " 'https://www.flipkart.com/chevit-perfect-affordable-combo-pack-02-pairs-sneakers-outdoor-loafer-sports-running-rock-climbing-gym-shoes-men-black-grey/p/itm22f366c668d4f?pid=SHOGYS7MGGGHZGW7&lid=LSTSHOGYS7MGGGHZGW7VYR7FM&marketplace=FLIPKART&q=Sneakers&store=osp%2Fcil%2Fe1f&srno=s_1_40&otracker=search&otracker1=search&fm=SEARCH&iid=en_eE5FHcO2B5B0pREyJAsup4y60fMUUBgshDyyHo1zJuFScNmW59SpOLtZPxI0li7ADR%2FRReSvwfIomjzGDbX3jQ%3D%3D&ppt=hp&ppn=homepage&ssid=pnr69a7rk00000001634405542213&qH=ea24260ef5764089']"
      ]
     },
     "execution_count": 184,
     "metadata": {},
     "output_type": "execute_result"
    }
   ],
   "source": [
    "#first page (has total 40 items)\n",
    "for i in driver.find_elements_by_xpath(\"//a[@class='IRpwTa']\"):\n",
    "    urls.append(i.get_attribute(\"href\"))\n",
    "urls"
   ]
  },
  {
   "cell_type": "code",
   "execution_count": 185,
   "metadata": {},
   "outputs": [
    {
     "data": {
      "text/plain": [
       "38"
      ]
     },
     "execution_count": 185,
     "metadata": {},
     "output_type": "execute_result"
    }
   ],
   "source": [
    "len(urls)"
   ]
  },
  {
   "cell_type": "code",
   "execution_count": null,
   "metadata": {},
   "outputs": [],
   "source": [
    "#first page with 40 items\n",
    "for i in urls:\n",
    "    driver.get(i)\n",
    "    time.sleep(3)\n",
    "    br=driver.find_element_by_xpath(\"//span[@class='G6XhRU']\")\n",
    "    brand.append(br.text)\n",
    "    try:\n",
    "        pr=driver.find_element_by_xpath(\"div[@class='_30jeq3 _16Jk6d']\")\n",
    "        price.append(pr.text)\n",
    "    except:\n",
    "        price.append(\"NA\")\n",
    "        try:\n",
    "            disc=driver.find_element_by_xpath(\"//div[@class='_3Ay6Sb _31Dcoz pZkvcx']\")\n",
    "            discount.append(disc.text)\n",
    "        except:\n",
    "            discount.append(\"NA\")\n",
    "            try:\n",
    "                pro_desc=driver.find_element_by_xpath(\"//span[@class='B_NuCI']\")\n",
    "                product_description.append(pro_desc.text)\n",
    "            except:\n",
    "                product_description.append(\"NA\")"
   ]
  },
  {
   "cell_type": "code",
   "execution_count": null,
   "metadata": {},
   "outputs": [],
   "source": [
    "#click on Next button\n",
    "driver.get(\"https://www.flipkart.com/search?q=Sneakers&otracker=search&otracker1=search&marketplace=FLIPKART&as-show=on&as=off\")\n",
    "next_btn=driver.find_element_by_xpath(\"//span[text()='Next']\")\n",
    "next_btn.click()"
   ]
  },
  {
   "cell_type": "code",
   "execution_count": null,
   "metadata": {},
   "outputs": [],
   "source": [
    "#40 items on next page( page no. 2)\n",
    "for i in urls:\n",
    "    driver.get(i)\n",
    "    time.sleep(3)\n",
    "    br=driver.find_element_by_xpath(\"//span[@class='G6XhRU']\")\n",
    "    brand.append(br.text)\n",
    "    try:\n",
    "        pr=driver.find_element_by_xpath(\"div[@class='_30jeq3 _16Jk6d']\")\n",
    "        price.append(pr.text)\n",
    "    except:\n",
    "        price.append(\"NA\")\n",
    "        try:\n",
    "            disc=driver.find_element_by_xpath(\"//div[@class='_3Ay6Sb _31Dcoz pZkvcx']\")\n",
    "            discount.append(disc.text)\n",
    "        except:\n",
    "            discount.append(\"NA\")\n",
    "            try:\n",
    "                pro_desc=driver.find_element_by_xpath(\"//span[@class='B_NuCI']\")\n",
    "                product_description.append(pro_desc.text)\n",
    "            except:\n",
    "                product_description.append(\"NA\")"
   ]
  },
  {
   "cell_type": "code",
   "execution_count": null,
   "metadata": {},
   "outputs": [],
   "source": [
    "#click on Next button\n",
    "driver.get(\"https://www.flipkart.com/search?q=Sneakers&otracker=search&otracker1=search&marketplace=FLIPKART&as-show=on&as=off&page=2\")\n",
    "next_btn=driver.find_element_by_xpath(\"//span[text()='Next']\")\n",
    "next_btn.click()"
   ]
  },
  {
   "cell_type": "code",
   "execution_count": null,
   "metadata": {},
   "outputs": [],
   "source": [
    "#20 items on next page( page no. 3)\n",
    "for i in urls:\n",
    "    driver.get(i)\n",
    "    time.sleep(3)\n",
    "    br=driver.find_element_by_xpath(\"//span[@class='G6XhRU']\")\n",
    "    brand.append(br.text)\n",
    "    try:\n",
    "        pr=driver.find_element_by_xpath(\"div[@class='_30jeq3 _16Jk6d']\")\n",
    "        price.append(pr.text)\n",
    "    except:\n",
    "        price.append(\"NA\")\n",
    "        try:\n",
    "            disc=driver.find_element_by_xpath(\"//div[@class='_3Ay6Sb _31Dcoz pZkvcx']\")\n",
    "            discount.append(disc.text)\n",
    "        except:\n",
    "            discount.append(\"NA\")\n",
    "            try:\n",
    "                pro_desc=driver.find_element_by_xpath(\"//span[@class='B_NuCI']\")\n",
    "                product_description.append(pro_desc.text)\n",
    "            except:\n",
    "                product_description.append(\"NA\")"
   ]
  },
  {
   "cell_type": "code",
   "execution_count": null,
   "metadata": {},
   "outputs": [],
   "source": [
    "print(len(brand), len(price), len(discount), len(product_description))"
   ]
  },
  {
   "cell_type": "code",
   "execution_count": null,
   "metadata": {},
   "outputs": [],
   "source": [
    "sneakers=pd.DataFrame[{}]\n",
    "sneakers[\"Brand\"]=brand[:100]\n",
    "sneakers[\"Product_description\"]=product_description[:100]\n",
    "sneakers[\"Price\"]=price[:100]\n",
    "sneakers[\"Discount\"]=discount[:100]"
   ]
  },
  {
   "cell_type": "code",
   "execution_count": null,
   "metadata": {},
   "outputs": [],
   "source": [
    "sneakers[:100]"
   ]
  },
  {
   "cell_type": "markdown",
   "metadata": {},
   "source": [
    "Program 9- Go to the link - https://www.myntra.com/shoes\n",
    "Set Price filter to “Rs. 6649 to Rs. 13099” , Color filter to “Black”. And then scrape First 100 shoes data you get. The data should include “Brand” of \n",
    "the shoes , Short Shoe description, price of the shoe."
   ]
  },
  {
   "cell_type": "code",
   "execution_count": null,
   "metadata": {},
   "outputs": [],
   "source": [
    "driver=webdriver.Chrome(r\"C:/chromedriver_win32/chromedriver.exe\")"
   ]
  },
  {
   "cell_type": "code",
   "execution_count": null,
   "metadata": {},
   "outputs": [],
   "source": [
    "driver.get(\"https://www.myntra.com/shoes\")"
   ]
  },
  {
   "cell_type": "code",
   "execution_count": null,
   "metadata": {},
   "outputs": [],
   "source": [
    "filter1=driver.find_element_by_xpath(\"//label[text()='Black']\")\n",
    "filter1.click()"
   ]
  },
  {
   "cell_type": "code",
   "execution_count": null,
   "metadata": {},
   "outputs": [],
   "source": [
    "#selected the dynamic price filter which keeps changing\n",
    "filter2=driver.find_element_by_xpath(\"//label[text()='Rs. 6927 to Rs. 13615']\")\n",
    "filter2.click()"
   ]
  },
  {
   "cell_type": "code",
   "execution_count": null,
   "metadata": {},
   "outputs": [],
   "source": [
    "brand=[]\n",
    "description=[]\n",
    "price=[]\n",
    "urls=[]"
   ]
  },
  {
   "cell_type": "code",
   "execution_count": null,
   "metadata": {},
   "outputs": [],
   "source": [
    "for i in driver.find_elements_by_xpath(\"//li[@class='product-base']\"):\n",
    "    urls.append(i.get_attribute(\"href\"))\n",
    "urls"
   ]
  },
  {
   "cell_type": "code",
   "execution_count": null,
   "metadata": {},
   "outputs": [],
   "source": [
    "len(urls)"
   ]
  },
  {
   "cell_type": "code",
   "execution_count": null,
   "metadata": {},
   "outputs": [],
   "source": [
    "#50 items on first page\n",
    "for i in urls:\n",
    "    driver.get(i)\n",
    "    time.sleep(3)\n",
    "    br=driver.find_element_by_xpath(\"//h1[@class='pdp-title']\")\n",
    "    brand.append(br.text)\n",
    "    try:\n",
    "        pr=driver.find_element_by_xpath(\"//span[@class='_pdp-price']\")\n",
    "        price.append(pr.text)\n",
    "    except:\n",
    "        price.append(\"NA\")\n",
    "        try:\n",
    "            pro_desc=driver.find_element_by_xpath(\"//h1[@pdp-name]\")\n",
    "            product_description.append(pro_desc.text)\n",
    "        except:\n",
    "            product_description.append(\"NA\")"
   ]
  },
  {
   "cell_type": "code",
   "execution_count": null,
   "metadata": {},
   "outputs": [],
   "source": [
    "brand"
   ]
  },
  {
   "cell_type": "code",
   "execution_count": null,
   "metadata": {},
   "outputs": [],
   "source": [
    "description"
   ]
  },
  {
   "cell_type": "code",
   "execution_count": null,
   "metadata": {},
   "outputs": [],
   "source": [
    "price"
   ]
  },
  {
   "cell_type": "code",
   "execution_count": null,
   "metadata": {},
   "outputs": [],
   "source": [
    "#click on Next button\n",
    "driver.get(\"\")\n",
    "next_btn=driver.find_element_by_xpath(\"//[text()='Next']\")\n",
    "next_btn.click()"
   ]
  },
  {
   "cell_type": "code",
   "execution_count": null,
   "metadata": {},
   "outputs": [],
   "source": [
    "#for 50 items on page no. 2\n",
    "for i in urls:\n",
    "    driver.get(i)\n",
    "    time.sleep(3)\n",
    "    br=driver.find_element_by_xpath(\"//span[@class='G6XhRU']\")\n",
    "    brand.append(br.text)\n",
    "    brand\n",
    "    try:\n",
    "        pr=driver.find_element_by_xpath(\"//div[@class='_30jeq3 _16Jk6d']\")\n",
    "        price.append(pr.text)\n",
    "        price\n",
    "    except:\n",
    "        price.append(\"NA\")\n",
    "    try:\n",
    "        pro_desc=driver.find_element_by_xpath(\"//span[@class='B_NuCI']\")\n",
    "        product_description.append(pro_desc.text)\n",
    "        product_description\n",
    "    except:\n",
    "        product_description(\"NA\")"
   ]
  },
  {
   "cell_type": "code",
   "execution_count": null,
   "metadata": {},
   "outputs": [],
   "source": [
    "print(len(brand), len(price), len(discount), len(product_description))"
   ]
  },
  {
   "cell_type": "code",
   "execution_count": null,
   "metadata": {},
   "outputs": [],
   "source": [
    "shoes=pd.DataFrame[{}]\n",
    "shoes[\"Brand\"]=brand[:100]\n",
    "shoes[\"Product_description\"]=product_description[:100]\n",
    "shoes[\"Price\"]=price[:100]\n",
    "shoes[\"Discount\"]=discount[:100]\n",
    "shoes"
   ]
  },
  {
   "cell_type": "code",
   "execution_count": null,
   "metadata": {},
   "outputs": [],
   "source": []
  },
  {
   "cell_type": "code",
   "execution_count": null,
   "metadata": {},
   "outputs": [],
   "source": []
  },
  {
   "cell_type": "code",
   "execution_count": null,
   "metadata": {},
   "outputs": [],
   "source": []
  },
  {
   "cell_type": "code",
   "execution_count": null,
   "metadata": {},
   "outputs": [],
   "source": []
  },
  {
   "cell_type": "markdown",
   "metadata": {},
   "source": [
    "Program 10- Go to webpage https://www.amazon.in/\n",
    "Enter “Laptop” in the search field and then click the search icon.\n",
    "Then set CPU Type filter to “Intel Core i7” and “Intel Core i9”. After setting the filters scrape first 10 laptops data. You have to scrape 3 attributes \n",
    "for each laptop: 1. title, 2. Ratings, 3. Price."
   ]
  },
  {
   "cell_type": "code",
   "execution_count": 166,
   "metadata": {},
   "outputs": [],
   "source": [
    "driver=webdriver.Chrome(r\"C:/chromedriver_win32/chromedriver.exe\")"
   ]
  },
  {
   "cell_type": "code",
   "execution_count": 167,
   "metadata": {},
   "outputs": [],
   "source": [
    "driver.get(\"https://www.amazon.in/\")"
   ]
  },
  {
   "cell_type": "code",
   "execution_count": 168,
   "metadata": {},
   "outputs": [],
   "source": [
    "#finding element for product search bar\n",
    "search_lap=driver.find_element_by_id(\"twotabsearchtextbox\")\n",
    "search_lap.send_keys(\"Laptop\")"
   ]
  },
  {
   "cell_type": "code",
   "execution_count": 169,
   "metadata": {},
   "outputs": [],
   "source": [
    "search_btn=driver.find_element_by_xpath(\"//div[@class='nav-search-submit nav-sprite']\")\n",
    "search_btn.click()"
   ]
  },
  {
   "cell_type": "code",
   "execution_count": 170,
   "metadata": {},
   "outputs": [],
   "source": [
    "filter1=driver.find_element_by_xpath(\"//span[text()='Intel Core i7']\")\n",
    "filter1.click()"
   ]
  },
  {
   "cell_type": "code",
   "execution_count": 171,
   "metadata": {},
   "outputs": [],
   "source": [
    "filter2=driver.find_element_by_xpath(\"//span[text()='Intel Core i9']\")\n",
    "filter2.click()"
   ]
  },
  {
   "cell_type": "code",
   "execution_count": 172,
   "metadata": {},
   "outputs": [],
   "source": [
    "title=[]\n",
    "ratings=[]\n",
    "price=[]\n",
    "urls=[]"
   ]
  },
  {
   "cell_type": "code",
   "execution_count": 173,
   "metadata": {},
   "outputs": [
    {
     "data": {
      "text/plain": [
       "['https://www.amazon.in/gp/slredirect/picassoRedirect.html/ref=pa_sp_atf_computers_sr_pg1_1?ie=UTF8&adId=A097852726KR7DAH06NN1&url=%2FFujitsu-33-78cm-Graphics-Fingerprint-4ZR1D67596%2Fdp%2FB098P34QRL%2Fref%3Dsr_1_1_sspa%3Fdchild%3D1%26keywords%3DLaptop%26qid%3D1634405002%26refinements%3Dp_n_feature_thirteen_browse-bin%253A12598163031%257C16757432031%26rnid%3D12598141031%26s%3Dcomputers%26sr%3D1-1-spons%26psc%3D1&qualifier=1634405002&id=1876245706139030&widgetName=sp_atf',\n",
       " 'https://www.amazon.in/gp/slredirect/picassoRedirect.html/ref=pa_sp_atf_computers_sr_pg1_1?ie=UTF8&adId=A07831422XG3LWS75TAAF&url=%2FLenovo-ThinkBook-Antiglare-Warranty-20VEA0HHIH%2Fdp%2FB09GW2F4XV%2Fref%3Dsr_1_2_sspa%3Fdchild%3D1%26keywords%3DLaptop%26qid%3D1634405002%26refinements%3Dp_n_feature_thirteen_browse-bin%253A12598163031%257C16757432031%26rnid%3D12598141031%26s%3Dcomputers%26sr%3D1-2-spons%26psc%3D1&qualifier=1634405002&id=1876245706139030&widgetName=sp_atf',\n",
       " 'https://www.amazon.in/Acer-i7-11800H-39-62cms-Graphics-AN515-57/dp/B09C8HZMW2/ref=sr_1_3?dchild=1&keywords=Laptop&qid=1634405002&refinements=p_n_feature_thirteen_browse-bin%3A12598163031%7C16757432031&rnid=12598141031&s=computers&sr=1-3',\n",
       " 'https://www.amazon.in/Notebook-Horizon-i7-10510U-Graphics-XMA1904-AF/dp/B089DFJHZ8/ref=sr_1_4?dchild=1&keywords=Laptop&qid=1634405002&refinements=p_n_feature_thirteen_browse-bin%3A12598163031%7C16757432031&rnid=12598141031&s=computers&sr=1-4',\n",
       " 'https://www.amazon.in/LifeDigital-Laptop-Intel%C2%AE-Storage-Windows/dp/B08HRMHZ8J/ref=sr_1_5?dchild=1&keywords=Laptop&qid=1634405002&refinements=p_n_feature_thirteen_browse-bin%3A12598163031%7C16757432031&rnid=12598141031&s=computers&sr=1-5',\n",
       " 'https://www.amazon.in/HP-Pavilion-Graphics-35-56cms-14-dv0058TU/dp/B08WB857GB/ref=sr_1_6?dchild=1&keywords=Laptop&qid=1634405002&refinements=p_n_feature_thirteen_browse-bin%3A12598163031%7C16757432031&rnid=12598141031&s=computers&sr=1-6',\n",
       " 'https://www.amazon.in/Dell-i7-1195G7-Platinum-5410-D560596WIN9S/dp/B09F3QKQH6/ref=sr_1_7?dchild=1&keywords=Laptop&qid=1634405002&refinements=p_n_feature_thirteen_browse-bin%3A12598163031%7C16757432031&rnid=12598141031&s=computers&sr=1-7',\n",
       " 'https://www.amazon.in/Lenovo-IdeaPad-Windows-Graphics-82H1002CIN/dp/B094XJPQ6N/ref=sr_1_8?dchild=1&keywords=Laptop&qid=1634405002&refinements=p_n_feature_thirteen_browse-bin%3A12598163031%7C16757432031&rnid=12598141031&s=computers&sr=1-8',\n",
       " 'https://www.amazon.in/Lenovo-ThinkBook-Antiglare-Warranty-20VEA0HHIH/dp/B09GW2F4XV/ref=sr_1_9?dchild=1&keywords=Laptop&qid=1634405002&refinements=p_n_feature_thirteen_browse-bin%3A12598163031%7C16757432031&rnid=12598141031&s=computers&sr=1-9',\n",
       " 'https://www.amazon.in/Renewed-Lenovo-Thinkpad-Hybrid-Laptop/dp/B09GVZ6C8C/ref=sr_1_10?dchild=1&keywords=Laptop&qid=1634405002&refinements=p_n_feature_thirteen_browse-bin%3A12598163031%7C16757432031&rnid=12598141031&s=computers&sr=1-10',\n",
       " 'https://www.amazon.in/HP-Pavilion-13-3-inch-Ceramic-13-bb0078TU/dp/B09839P9XB/ref=sr_1_11?dchild=1&keywords=Laptop&qid=1634405002&refinements=p_n_feature_thirteen_browse-bin%3A12598163031%7C16757432031&rnid=12598141031&s=computers&sr=1-11',\n",
       " 'https://www.amazon.in/ASUS-i7-11370H-GeForce-Graphics-FX516PM-AZ153TS/dp/B08CKRKTSY/ref=sr_1_12?dchild=1&keywords=Laptop&qid=1634405002&refinements=p_n_feature_thirteen_browse-bin%3A12598163031%7C16757432031&rnid=12598141031&s=computers&sr=1-12',\n",
       " 'https://www.amazon.in/Lenovo-i7-10750H-39-63cm-Windows-82AU00PNIN/dp/B097TY6PTN/ref=sr_1_13?dchild=1&keywords=Laptop&qid=1634405002&refinements=p_n_feature_thirteen_browse-bin%3A12598163031%7C16757432031&rnid=12598141031&s=computers&sr=1-13',\n",
       " 'https://www.amazon.in/Fujitsu-33-78cm-Graphics-Fingerprint-4ZR1D67596/dp/B098P34QRL/ref=sr_1_14?dchild=1&keywords=Laptop&qid=1634405002&refinements=p_n_feature_thirteen_browse-bin%3A12598163031%7C16757432031&rnid=12598141031&s=computers&sr=1-14',\n",
       " 'https://www.amazon.in/gp/slredirect/picassoRedirect.html/ref=pa_sp_mtf_computers_sr_pg1_1?ie=UTF8&adId=A0100191WM8UURN367LA&url=%2FAcer-i7-11800H-39-62cms-Graphics-AN515-57%2Fdp%2FB09C8HZMW2%2Fref%3Dsr_1_15_sspa%3Fdchild%3D1%26keywords%3DLaptop%26qid%3D1634405002%26refinements%3Dp_n_feature_thirteen_browse-bin%253A12598163031%257C16757432031%26rnid%3D12598141031%26s%3Dcomputers%26sr%3D1-15-spons%26psc%3D1&qualifier=1634405002&id=1876245706139030&widgetName=sp_mtf',\n",
       " 'https://www.amazon.in/gp/slredirect/picassoRedirect.html/ref=pa_sp_mtf_computers_sr_pg1_1?ie=UTF8&adId=A04536882DHOC6WE6MJEL&url=%2FLG-Ultra-Light-16-inches-Thunderbolt-16Z90P-G-AH75A2%2Fdp%2FB09B81W875%2Fref%3Dsr_1_16_sspa%3Fdchild%3D1%26keywords%3DLaptop%26qid%3D1634405002%26refinements%3Dp_n_feature_thirteen_browse-bin%253A12598163031%257C16757432031%26rnid%3D12598141031%26s%3Dcomputers%26sr%3D1-16-spons%26psc%3D1&qualifier=1634405002&id=1876245706139030&widgetName=sp_mtf',\n",
       " 'https://www.amazon.in/HP-Pavilion-15-6-inch-Graphics-15-dk2075tx/dp/B09BDBCRNZ/ref=sr_1_17?dchild=1&keywords=Laptop&qid=1634405002&refinements=p_n_feature_thirteen_browse-bin%3A12598163031%7C16757432031&rnid=12598141031&s=computers&sr=1-17',\n",
       " 'https://www.amazon.in/Fujitsu-Convertible-Business-Graphics-4ZR1D71993/dp/B098P4M233/ref=sr_1_18?dchild=1&keywords=Laptop&qid=1634405002&refinements=p_n_feature_thirteen_browse-bin%3A12598163031%7C16757432031&rnid=12598141031&s=computers&sr=1-18',\n",
       " 'https://www.amazon.in/ASUS-15-6-inch-i7-11800H-RTX-3050-FX566HC-HN050T/dp/B09CCL46PH/ref=sr_1_19?dchild=1&keywords=Laptop&qid=1634405002&refinements=p_n_feature_thirteen_browse-bin%3A12598163031%7C16757432031&rnid=12598141031&s=computers&sr=1-19',\n",
       " 'https://www.amazon.in/Dell-i7-10870H-G15-5510-D560534WIN9B/dp/B09F3PCD31/ref=sr_1_20?dchild=1&keywords=Laptop&qid=1634405002&refinements=p_n_feature_thirteen_browse-bin%3A12598163031%7C16757432031&rnid=12598141031&s=computers&sr=1-20',\n",
       " 'https://www.amazon.in/Lenovo-IdeaPad-i7-11370H-39-63cm-82K1004EIN/dp/B09BJ7GD7B/ref=sr_1_21?dchild=1&keywords=Laptop&qid=1634405002&refinements=p_n_feature_thirteen_browse-bin%3A12598163031%7C16757432031&rnid=12598141031&s=computers&sr=1-21',\n",
       " 'https://www.amazon.in/Lenovo-ThinkBook-Antiglare-Warranty-20VEA0HBIH/dp/B09G3CQXSD/ref=sr_1_22?dchild=1&keywords=Laptop&qid=1634405002&refinements=p_n_feature_thirteen_browse-bin%3A12598163031%7C16757432031&rnid=12598141031&s=computers&sr=1-22',\n",
       " 'https://www.amazon.in/Lenovo-39-62cm-Refresh-Keyboard-82JK007WIN/dp/B09DMYZW5Q/ref=sr_1_23?dchild=1&keywords=Laptop&qid=1634405002&refinements=p_n_feature_thirteen_browse-bin%3A12598163031%7C16757432031&rnid=12598141031&s=computers&sr=1-23',\n",
       " 'https://www.amazon.in/ASUS-ZenBook-i7-1165G7-Business-Graphics/dp/B095C55Q7P/ref=sr_1_24?dchild=1&keywords=Laptop&qid=1634405002&refinements=p_n_feature_thirteen_browse-bin%3A12598163031%7C16757432031&rnid=12598141031&s=computers&sr=1-24',\n",
       " 'https://www.amazon.in/Lenovo-Touchscreen-Graphics-Fingerprint-82A300BEIN/dp/B094XHDWWF/ref=sr_1_25?dchild=1&keywords=Laptop&qid=1634405002&refinements=p_n_feature_thirteen_browse-bin%3A12598163031%7C16757432031&rnid=12598141031&s=computers&sr=1-25',\n",
       " 'https://www.amazon.in/ASUS-Dash-F15-15-6-inch-i7-11370H-FX516PC-HN062T/dp/B096KZ11KK/ref=sr_1_26?dchild=1&keywords=Laptop&qid=1634405002&refinements=p_n_feature_thirteen_browse-bin%3A12598163031%7C16757432031&rnid=12598141031&s=computers&sr=1-26',\n",
       " 'https://www.amazon.in/Lenovo-Touchscreen-Fingerprint-Aluminium-82BH004HIN/dp/B08P3M22QQ/ref=sr_1_27?dchild=1&keywords=Laptop&qid=1634405002&refinements=p_n_feature_thirteen_browse-bin%3A12598163031%7C16757432031&rnid=12598141031&s=computers&sr=1-27',\n",
       " 'https://www.amazon.in/Dell-1366x768-Integrated-Graphics-Latitude/dp/B0974WY91B/ref=sr_1_28?dchild=1&keywords=Laptop&qid=1634405002&refinements=p_n_feature_thirteen_browse-bin%3A12598163031%7C16757432031&rnid=12598141031&s=computers&sr=1-28',\n",
       " 'https://www.amazon.in/gp/slredirect/picassoRedirect.html/ref=pa_sp_btf_computers_sr_pg1_1?ie=UTF8&adId=A10081262K6KZOZ37JXYV&url=%2FHP-Processor-Touchscreen-Windows-13-ba1018TX%2Fdp%2FB091FJ13Q5%2Fref%3Dsr_1_29_sspa%3Fdchild%3D1%26keywords%3DLaptop%26qid%3D1634405002%26refinements%3Dp_n_feature_thirteen_browse-bin%253A12598163031%257C16757432031%26rnid%3D12598141031%26s%3Dcomputers%26sr%3D1-29-spons%26psc%3D1&qualifier=1634405002&id=1876245706139030&widgetName=sp_btf',\n",
       " 'https://www.amazon.in/gp/slredirect/picassoRedirect.html/ref=pa_sp_btf_computers_sr_pg1_1?ie=UTF8&adId=A04536001IZ6NRJGOXJEU&url=%2FLG-Ultra-Light-17-inches-Thunderbolt-17Z90P-G-AH75A2%2Fdp%2FB09B816K7V%2Fref%3Dsr_1_30_sspa%3Fdchild%3D1%26keywords%3DLaptop%26qid%3D1634405002%26refinements%3Dp_n_feature_thirteen_browse-bin%253A12598163031%257C16757432031%26rnid%3D12598141031%26s%3Dcomputers%26sr%3D1-30-spons%26psc%3D1&qualifier=1634405002&id=1876245706139030&widgetName=sp_btf']"
      ]
     },
     "execution_count": 173,
     "metadata": {},
     "output_type": "execute_result"
    }
   ],
   "source": [
    "for i in driver.find_elements_by_xpath(\"//a[@class='a-link-normal a-text-normal']\"):\n",
    "    urls.append(i.get_attribute(\"href\"))\n",
    "urls"
   ]
  },
  {
   "cell_type": "code",
   "execution_count": 174,
   "metadata": {},
   "outputs": [
    {
     "data": {
      "text/plain": [
       "['Fujitsu UH-X 11th Gen Intel i7 Core 13.3” (33.78cm) FHD IPS 400Nits Thin and Light Laptop (16GB/512GB SSD/Win10/Office/Iris Xe Graphics/Backlit Kb/ Fingerprint Reader/Black/878gms), 4ZR1D67596',\n",
       " 'Lenovo ThinkBook 15 Intel 11th Gen Core i7 15.6\" (39.62 cm) FHD IPS 300 nits Antiglare 100% sRGB Thin and Light Laptop (16GB/512GB SSD/Windows 10/MS Office/3 Yr Onsite Warranty/1.7 Kg), 20VEA0HHIH',\n",
       " 'Acer Nitro 5 11th Gen Intel Core i7-11800H 15.6\" (39.62cms) Full HD Gaming Laptop (16 GB/256GB SSD/1 TB HDD/Win 10/RTX 3050 Ti 4GB Graphics/144 Hz, Black, 2.4 kg/RGB Backlit Keyboard) AN515-57',\n",
       " 'Mi Notebook Horizon Edition 14 Intel Core i7-10510U 10th Gen Thin and Light Laptop(8GB/512GB SSD/Windows 10/Nvidia MX350 2GB Graphics/Grey/1.35Kg)(Without Webcam) XMA1904-AF',\n",
       " 'Life Digital Laptop 15.6-inch (39.62 cms) (Intel Core i7, 4GB RAM, 256GB SSD, Windows 10), ZED AIR CX7',\n",
       " 'HP Pavilion (2021) Intel 11th Gen Core i7 14 inches FHD Screen Thin & Light Laptop, 16 GB RAM, 1TB SSD, Iris Xe Graphics, Windows 10, MS Office, Backlit Keyboard, 1.41kg (14-dv0058TU), Silver',\n",
       " 'Dell 14 (2021) i7-1195G7 2in1 Touch Screen Laptop, 16GB, 512GB SSD, Win 10 + MS Office, 14.0\" (35.56 cms) FHD Display, Backlit KB, FPR + Active Pen, Platinum Silver (Inspiron 5410, D560596WIN9S)',\n",
       " 'Lenovo IdeaPad S540 11th Gen Intel Core i7 13.3\" QHD IPS Thin & Light Laptop (16GB/512GB SSD/Windows 10/MS Office 2019/Intel Iris Xe Graphics/Iron Grey/1.28Kg), 82H1002CIN',\n",
       " 'Lenovo ThinkBook 15 Intel 11th Gen Core i7 15.6\" (39.62 cm) FHD IPS 300 nits Antiglare 100% sRGB Thin and Light Laptop (16GB/512GB SSD/Windows 10/MS Office/3 Yr Onsite Warranty/1.7 Kg), 20VEA0HHIH',\n",
       " '(Renewed) Lenovo Thinkpad Hybrid Laptop T450s (Slim) Intel Core i7 - 5600u Processor, 12 GB Ram, 1TB Harddisk & 256 GB ssd, Windows 10 Pro, 14.1 Inches Notebook Computer',\n",
       " 'HP Pavilion 13(2021) 11th Gen Intel Core i7 Laptop, 16GB RAM, 1TB SSD, 13.3-inch(33.8 cm) FHD Screen, Win 10, MS Office, Ceramic White, 1.24 Kg (13-bb0078TU)',\n",
       " 'ASUS TUF Dash F15 (2021) 15.6\" (39.62 cm) FHD 240Hz/3ms, Intel Core i7-11370H, GeForce RTX 3060 6GB Graphics, Gaming Laptop (16GB RAM/1TB SSD/Office 2019/Windows 10 Home/Gray/2 Kg) FX516PM-AZ153TS',\n",
       " 'Lenovo Legion 5 10th Gen Intel Core i7-10750H 15.6\" (39.63cm) FHD IPS Gaming Laptop (16GB/512GB SSD/Windows 10/NVIDIA GTX 1650 4GB/120Hz Refresh Display/Phantom Black/2.3Kg), 82AU00PNIN',\n",
       " 'Fujitsu UH-X 11th Gen Intel i7 Core 13.3” (33.78cm) FHD IPS 400Nits Thin and Light Laptop (16GB/512GB SSD/Win10/Office/Iris Xe Graphics/Backlit Kb/ Fingerprint Reader/Black/878gms), 4ZR1D67596',\n",
       " 'Acer Nitro 5 11th Gen Intel Core i7-11800H 15.6\" (39.62cms) Full HD Gaming Laptop (16 GB/256GB SSD/1 TB HDD/Win 10/RTX 3050 Ti 4GB Graphics/144 Hz, Black, 2.4 kg/RGB Backlit Keyboard) AN515-57',\n",
       " 'LG Gram Ultra-Light 11th Gen Core i7,16 GB RAM, 512 GB SSD, Win-10, Iris Xe Graphics, 16-inches (40.64 cms), Thunderbolt 4, USC -C x 2 (with Power), 1.19 kg, 3 Yr Warranty (16Z90P-G.AH75A2, Black)',\n",
       " 'HP Pavilion Gaming 11th Gen Intel Core i7 15.6-inch(39.6 cm) FHD Gaming Laptop (16GB RAM/512GB SSD/144Hz/GTX 1650 4GB Graphics/Win 10/MS Office/Shadow Black/2.28 Kg), 15-dk2075tx',\n",
       " 'Fujitsu UH-X 11th Gen Intel Core i7 13.3 inches Full HD IPS 400Nits 2-in1 Touch Convertible Business Laptop (16GB/1TB SSD/Windows 10/Office/Iris Xe Graphics/Backlit Kb/Black/0.997 kg, 4ZR1D71993)',\n",
       " 'ASUS TUF Gaming F15 (2021) 15.6-inch (39.62 cms) FHD 144Hz, Intel Core i7-11800H 11th Gen, RTX 3050 4GB Graphics, Gaming Laptop (8GB/1TB SSD/Windows 10/Gray/2.3 Kg), FX566HC-HN050T',\n",
       " 'Dell 15 (2021) i7-10870H Gaming Laptop, 16GB DDR4, 512GB SSD, Win 10 + MS Office, NVIDIA RTX 3050 Ti 4GB, 15.6\" (39.61 cms) FHD AG 250 nits 120Hz, Backlit KB Orange (G15 5510, D560534WIN9B)',\n",
       " 'Lenovo IdeaPad Gaming 3 11th Gen Intel Core i7-11370H 15.6\" (39.63cm) FHD IPS Gaming Laptop (8GB/512GB SSD/Windows 10/NVIDIA RTX 3050 4GB/120Hz Refresh Display/Shadow Black/2.25Kg), 82K1004EIN',\n",
       " 'Lenovo ThinkBook 15 Intel 11th Gen Core i7 15.6\"(39.62 cm) FHD IPS 300 nits Antiglare 100% RGB Thin and Light Laptop (16GB/1TB HDD+128GB SSD/Windows 10/MS Office/3Yr Onsite Warranty/1.7 Kg),20VEA0HBIH',\n",
       " 'Lenovo Legion 5 11th Gen Intel Core i7 15.6\"(39.62cm) FHD IPS Gaming Laptop (16GB/512GB SSD/NVIDIA RTX 3050 4GB/120Hz Refresh Rate/Windows 10/MS Office/Backlit Keyboard/Phantom Blue/2.4Kg), 82JK007WIN',\n",
       " 'ASUS ZenBook 13 OLED 2021 Intel Core i7-1165G7 11th Gen 14 inches FHD Thin and Light Business Laptop (16GB/1TB SSD/Windows 10/Office 2019/Iris X Graphics/Lilac Mist/1.14 kg) - UX325EA-KG701TS',\n",
       " 'Lenovo Yoga Slim 7 11th gen Intel Core i7 14\" FHD IPS Touchscreen Fabric Surface Thin & Light Laptop (16GB/1TB SSD/Win10/Office/Intel Iris Graphics/Fingerprint Reader/Slate Grey/1.33Kg), 82A300BEIN',\n",
       " 'ASUS TUF Dash F15 (2021), 15.6-inch (39.62 cms) FHD 144Hz, Intel Core i7-11370H 11th Gen, RTX 3050 4GB Graphics Gaming Laptop (16GB RAM/512GB SSD/Windows 10/White/2 kg), FX516PC-HN062T',\n",
       " 'Lenovo Yoga 7 11th Gen Intel Core i7-1165G7 14 inches FHD IPS 2-in-1 Touchscreen Business Laptop (16GB/512GB SSD/Windows 10/MS Office/Digital Pen/Fingerprint Reader/Slate Grey/1.43Kg)',\n",
       " '(Renewed) Dell Intel Core i7 4th Gen 14 Inch(35.56 cms) 1366x768 HD Laptop (8GB RAM/500GB HDD/Windows 10 Pro/MS Office 2019/Intel Integrated HD Graphics 4600/2.1Kg,Silver) Latitude E6440',\n",
       " 'HP Envy Intel 11th Gen Core i7 Processor 13.3 inches FHD Touchscreen Gaming Laptop (16GB/1TB SSD/Windows 10/NVIDIA MX450 2GB/Natural Silver/1.3 kg), 13-ba1018TX',\n",
       " 'LG Gram Ultra-Light 11th Gen Core i7,16 GB RAM, 512 GB SSD, Win-10, Iris Xe Graphics, 17-inches (43.18 cms), Thunderbolt 4, USC -C x 2 (with Power), 1.35 kg, 3 Yr Warranty (17Z90P-G.AH75A2, Black)']"
      ]
     },
     "execution_count": 174,
     "metadata": {},
     "output_type": "execute_result"
    }
   ],
   "source": [
    "#product title\n",
    "for i in urls:\n",
    "    driver.get(i)\n",
    "    lap_title=driver.find_element_by_xpath(\"//h1[@class='a-size-large a-spacing-none']\")\n",
    "    title.append(lap_title.text)\n",
    "title"
   ]
  },
  {
   "cell_type": "code",
   "execution_count": 175,
   "metadata": {},
   "outputs": [
    {
     "data": {
      "text/plain": [
       "['4.4 out of 5',\n",
       " '4.4 out of 5',\n",
       " '3.9 out of 5',\n",
       " '4.2 out of 5',\n",
       " '3.3 out of 5',\n",
       " '4.3 out of 5',\n",
       " 'NA',\n",
       " '4.3 out of 5',\n",
       " '4.4 out of 5',\n",
       " '5 out of 5',\n",
       " '4.5 out of 5',\n",
       " '4.1 out of 5',\n",
       " '4 out of 5',\n",
       " '4.4 out of 5',\n",
       " '3.9 out of 5',\n",
       " '4.3 out of 5',\n",
       " '3.6 out of 5',\n",
       " '4.2 out of 5',\n",
       " '4.4 out of 5',\n",
       " '5 out of 5',\n",
       " '4.8 out of 5',\n",
       " '4.3 out of 5',\n",
       " '4.4 out of 5',\n",
       " '4.3 out of 5',\n",
       " '3.7 out of 5',\n",
       " '4.2 out of 5',\n",
       " '4.3 out of 5',\n",
       " 'NA',\n",
       " '4.1 out of 5',\n",
       " '4.5 out of 5']"
      ]
     },
     "execution_count": 175,
     "metadata": {},
     "output_type": "execute_result"
    }
   ],
   "source": [
    "#ratings\n",
    "for i in urls:\n",
    "    driver.get(i)\n",
    "    time.sleep(3)\n",
    "    try:\n",
    "        rating=driver.find_element_by_xpath(\"//span[@class='a-size-medium a-color-base']\")  \n",
    "        ratings.append(rating.text)\n",
    "    except:\n",
    "        ratings.append(\"NA\")\n",
    "ratings"
   ]
  },
  {
   "cell_type": "code",
   "execution_count": 176,
   "metadata": {},
   "outputs": [
    {
     "data": {
      "text/plain": [
       "['NA',\n",
       " 'NA',\n",
       " 'NA',\n",
       " 'NA',\n",
       " 'NA',\n",
       " '₹84,990.00',\n",
       " '₹89,990.00',\n",
       " '₹77,990.00',\n",
       " 'NA',\n",
       " '₹39,990.00',\n",
       " '₹91,990.00',\n",
       " 'NA',\n",
       " '₹83,490.00',\n",
       " 'NA',\n",
       " 'NA',\n",
       " 'NA',\n",
       " 'NA',\n",
       " 'NA',\n",
       " 'NA',\n",
       " '₹1,01,490.00',\n",
       " 'NA',\n",
       " 'NA',\n",
       " 'NA',\n",
       " '₹1,02,900.00',\n",
       " '₹99,274.00',\n",
       " '₹94,990.00',\n",
       " '₹97,990.00',\n",
       " '₹34,899.00',\n",
       " '₹1,28,800.00',\n",
       " 'NA']"
      ]
     },
     "execution_count": 176,
     "metadata": {},
     "output_type": "execute_result"
    }
   ],
   "source": [
    "#product price\n",
    "for i in urls:\n",
    "    driver.get(i)\n",
    "    try:\n",
    "        pro_price=driver.find_element_by_xpath(\"//span[@id='priceblock_ourprice']\")\n",
    "        price.append(pro_price.text)\n",
    "    except:\n",
    "        price.append(\"NA\")\n",
    "price"
   ]
  },
  {
   "cell_type": "code",
   "execution_count": 177,
   "metadata": {},
   "outputs": [
    {
     "name": "stdout",
     "output_type": "stream",
     "text": [
      "30 30 30\n"
     ]
    }
   ],
   "source": [
    "print(len(title), len(ratings), len(price))"
   ]
  },
  {
   "cell_type": "code",
   "execution_count": 178,
   "metadata": {},
   "outputs": [
    {
     "data": {
      "text/html": [
       "<div>\n",
       "<style scoped>\n",
       "    .dataframe tbody tr th:only-of-type {\n",
       "        vertical-align: middle;\n",
       "    }\n",
       "\n",
       "    .dataframe tbody tr th {\n",
       "        vertical-align: top;\n",
       "    }\n",
       "\n",
       "    .dataframe thead th {\n",
       "        text-align: right;\n",
       "    }\n",
       "</style>\n",
       "<table border=\"1\" class=\"dataframe\">\n",
       "  <thead>\n",
       "    <tr style=\"text-align: right;\">\n",
       "      <th></th>\n",
       "      <th>Product_title</th>\n",
       "      <th>Ratings</th>\n",
       "      <th>Price</th>\n",
       "    </tr>\n",
       "  </thead>\n",
       "  <tbody>\n",
       "    <tr>\n",
       "      <th>0</th>\n",
       "      <td>Fujitsu UH-X 11th Gen Intel i7 Core 13.3” (33....</td>\n",
       "      <td>4.4 out of 5</td>\n",
       "      <td>NA</td>\n",
       "    </tr>\n",
       "    <tr>\n",
       "      <th>1</th>\n",
       "      <td>Lenovo ThinkBook 15 Intel 11th Gen Core i7 15....</td>\n",
       "      <td>4.4 out of 5</td>\n",
       "      <td>NA</td>\n",
       "    </tr>\n",
       "    <tr>\n",
       "      <th>2</th>\n",
       "      <td>Acer Nitro 5 11th Gen Intel Core i7-11800H 15....</td>\n",
       "      <td>3.9 out of 5</td>\n",
       "      <td>NA</td>\n",
       "    </tr>\n",
       "    <tr>\n",
       "      <th>3</th>\n",
       "      <td>Mi Notebook Horizon Edition 14 Intel Core i7-1...</td>\n",
       "      <td>4.2 out of 5</td>\n",
       "      <td>NA</td>\n",
       "    </tr>\n",
       "    <tr>\n",
       "      <th>4</th>\n",
       "      <td>Life Digital Laptop 15.6-inch (39.62 cms) (Int...</td>\n",
       "      <td>3.3 out of 5</td>\n",
       "      <td>NA</td>\n",
       "    </tr>\n",
       "    <tr>\n",
       "      <th>5</th>\n",
       "      <td>HP Pavilion (2021) Intel 11th Gen Core i7 14 i...</td>\n",
       "      <td>4.3 out of 5</td>\n",
       "      <td>₹84,990.00</td>\n",
       "    </tr>\n",
       "    <tr>\n",
       "      <th>6</th>\n",
       "      <td>Dell 14 (2021) i7-1195G7 2in1 Touch Screen Lap...</td>\n",
       "      <td>NA</td>\n",
       "      <td>₹89,990.00</td>\n",
       "    </tr>\n",
       "    <tr>\n",
       "      <th>7</th>\n",
       "      <td>Lenovo IdeaPad S540 11th Gen Intel Core i7 13....</td>\n",
       "      <td>4.3 out of 5</td>\n",
       "      <td>₹77,990.00</td>\n",
       "    </tr>\n",
       "    <tr>\n",
       "      <th>8</th>\n",
       "      <td>Lenovo ThinkBook 15 Intel 11th Gen Core i7 15....</td>\n",
       "      <td>4.4 out of 5</td>\n",
       "      <td>NA</td>\n",
       "    </tr>\n",
       "    <tr>\n",
       "      <th>9</th>\n",
       "      <td>(Renewed) Lenovo Thinkpad Hybrid Laptop T450s ...</td>\n",
       "      <td>5 out of 5</td>\n",
       "      <td>₹39,990.00</td>\n",
       "    </tr>\n",
       "  </tbody>\n",
       "</table>\n",
       "</div>"
      ],
      "text/plain": [
       "                                       Product_title       Ratings       Price\n",
       "0  Fujitsu UH-X 11th Gen Intel i7 Core 13.3” (33....  4.4 out of 5          NA\n",
       "1  Lenovo ThinkBook 15 Intel 11th Gen Core i7 15....  4.4 out of 5          NA\n",
       "2  Acer Nitro 5 11th Gen Intel Core i7-11800H 15....  3.9 out of 5          NA\n",
       "3  Mi Notebook Horizon Edition 14 Intel Core i7-1...  4.2 out of 5          NA\n",
       "4  Life Digital Laptop 15.6-inch (39.62 cms) (Int...  3.3 out of 5          NA\n",
       "5  HP Pavilion (2021) Intel 11th Gen Core i7 14 i...  4.3 out of 5  ₹84,990.00\n",
       "6  Dell 14 (2021) i7-1195G7 2in1 Touch Screen Lap...            NA  ₹89,990.00\n",
       "7  Lenovo IdeaPad S540 11th Gen Intel Core i7 13....  4.3 out of 5  ₹77,990.00\n",
       "8  Lenovo ThinkBook 15 Intel 11th Gen Core i7 15....  4.4 out of 5          NA\n",
       "9  (Renewed) Lenovo Thinkpad Hybrid Laptop T450s ...    5 out of 5  ₹39,990.00"
      ]
     },
     "execution_count": 178,
     "metadata": {},
     "output_type": "execute_result"
    }
   ],
   "source": [
    "laptops=pd.DataFrame({})\n",
    "laptops[\"Product_title\"]=title[:10]\n",
    "laptops[\"Ratings\"]=ratings[:10]\n",
    "laptops[\"Price\"]=price[:10]\n",
    "laptops[:10]"
   ]
  }
 ],
 "metadata": {
  "kernelspec": {
   "display_name": "Python 3",
   "language": "python",
   "name": "python3"
  },
  "language_info": {
   "codemirror_mode": {
    "name": "ipython",
    "version": 3
   },
   "file_extension": ".py",
   "mimetype": "text/x-python",
   "name": "python",
   "nbconvert_exporter": "python",
   "pygments_lexer": "ipython3",
   "version": "3.8.5"
  }
 },
 "nbformat": 4,
 "nbformat_minor": 4
}
